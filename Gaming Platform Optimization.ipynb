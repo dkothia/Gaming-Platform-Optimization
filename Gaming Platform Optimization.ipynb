{
 "cells": [
  {
   "cell_type": "markdown",
   "id": "c43e3f7e-9f49-4d9c-8261-b20f593e51b7",
   "metadata": {
    "panel-layout": {
     "height": 120.9296875,
     "visible": true,
     "width": 100
    }
   },
   "source": [
    "<h1 align=\"center\">ABC Gaming Platform Loyalty Score Optimization</h1>\n",
    "<h3 align=\"center\">by Dishant Kothia</h3>"
   ]
  },
  {
   "cell_type": "markdown",
   "id": "d6c8baf5-4754-49c2-bfb0-78a2b3d711b4",
   "metadata": {
    "panel-layout": {
     "height": 391.8515625,
     "visible": true,
     "width": 100
    }
   },
   "source": [
    "## Info on the Platform: ABC Gaming\n",
    "***ABC is a real money online gaming business, which offers people to play good multiplayer games like Ludo.***\n",
    "\n",
    "### Player Journey\n",
    " - The platform has an opportunity to register as players.\n",
    " - They are able to make deposits of money as well as play games with other players.\n",
    " - On winning, players are allowed to withdraw any amount that they have won and in its part, ABC imposes a small platform fee.\n",
    "\n",
    "---\n",
    "\n",
    "### Loyalty Points Program\n",
    "\n",
    "In order to reward and even keep returning users, ABC has implemented a Loyalty Points program. Each player will receive points depending on his/her activity in the platform.\n",
    "\n",
    "### Loyalty Points Are Based On:\n",
    "- **Deposits made**\n",
    "- **Withdrawals**\n",
    "- **Number of games played**\n",
    "- **Frequency of deposits vs withdrawals**\n",
    "\n",
    "The activities have a pre-determined formula used in converting to loyalty points.\n"
   ]
  },
  {
   "cell_type": "markdown",
   "id": "460ad1ec-370d-41a6-a0da-11213e374f13",
   "metadata": {
    "panel-layout": {
     "height": 451.2344055175781,
     "visible": true,
     "width": 100
    }
   },
   "source": [
    "## Loyalty Points Calculation Guide\n",
    "\n",
    "To retain players, ABC gives **Loyalty Points** based on user activity each day. Here's how the points are calculated:\n",
    "\n",
    "---\n",
    "\n",
    "### **Loyalty Point Breakdown**\n",
    "\n",
    "| Type of Action                                   | Weightage           | Formula                                      | Example                                                  |\n",
    "|-----------------------------------------------------|------------------------|------------------------------------------------|-------------------------------------------------------------|\n",
    "| Deposit of money                                 | `0.01`                 | `0.01 * Deposit Amount`                        | `0.01 * 1000 = 10 Points`                                   |\n",
    "| Withdrawal of money                              | `0.005`                | `0.005 * Withdrawal Amount`                    | `0.005 * 500 = 2.5 Points`                                  |\n",
    "| Extra deposits vs withdrawals                    | `0.001`                | `0.001 * max(#deposits - #withdrawals, 0)`     | `max(5 - 3, 0) = 2 → 0.001 * 2 = 0.002 Points`              |\n",
    "| Number of games played                           | `0.2`                  | `0.2 * Number of Games Played`                 | `0.2 * 50 = 10 Points`                                      |\n",
    "\n",
    "---\n",
    "\n",
    "### **Final Loyalty Point Formula**\n",
    "\n",
    "```text\n",
    "Loyalty Points =\n",
    "    (0.01 × Total Deposits) +\n",
    "    (0.005 × Total Withdrawals) +\n",
    "    (0.001 × max(#Deposits - #Withdrawals, 0)) +\n",
    "    (0.2 × Number of Games Played)\n"
   ]
  },
  {
   "cell_type": "markdown",
   "id": "30915570-2fca-4377-9257-f80d90cd3a50",
   "metadata": {
    "panel-layout": {
     "height": 667.953125,
     "visible": true,
     "width": 100
    }
   },
   "source": [
    "## Part A – Calculating Loyalty Points\n",
    "\n",
    "### Daily Time Slots\n",
    "Each day is divided into two time slots for calculating loyalty points:\n",
    "\n",
    "- **Slot S1**: `12:00 AM – 12:00 PM`\n",
    "- **Slot S2**: `12:00 PM – 12:00 AM`\n",
    "\n",
    "---\n",
    "\n",
    "### Based on the activity data, answer the following:\n",
    "\n",
    "#### 1. **Slot-wise Loyalty Points**\n",
    "Calculate player-wise loyalty points earned for the following slots:\n",
    "\n",
    "- **2nd October** → **Slot S1**\n",
    "- **16th October** → **Slot S2**\n",
    "- **18th October** → **Slot S1**\n",
    "- **26th October** → **Slot S2**\n",
    "\n",
    "---\n",
    "\n",
    "#### 2. **Monthly Loyalty Leaderboard**\n",
    "- Calculate **total loyalty points earned by each player** during **October**.\n",
    "- Rank players based on:\n",
    "  1. **Loyalty points (descending)**\n",
    "  2. **Number of games played** (as a tiebreaker)\n",
    "\n",
    "---\n",
    "\n",
    "#### 3. **Average Deposit Amount**\n",
    "- Calculate the **average deposit amount** across all transactions.\n",
    "\n",
    "---\n",
    "\n",
    "#### 4. **Average Deposit Amount per User (Monthly)**\n",
    "- Compute the **mean deposit amount per user** for the month of October.\n",
    "\n",
    "---\n",
    "\n",
    "#### 5. **Average Number of Games Played per User**\n",
    "- Determine the **average number of games played per user** during October.\n",
    "\n",
    "---\n"
   ]
  },
  {
   "cell_type": "markdown",
   "id": "5f0b4924-0e2b-4c74-854d-b90337a73969",
   "metadata": {
    "panel-layout": {
     "height": 261.375,
     "visible": true,
     "width": 100
    }
   },
   "source": [
    "\n",
    "## Part B – Bonus Allocation for Leaderboard Players\n",
    "\n",
    "After calculating total loyalty points for the month of **October**, identify the **Top 50 players** on the leaderboard.\n",
    "\n",
    "The company has allocated a **Rs. 50,000 bonus pool** to reward these loyal players.\n",
    "\n",
    "---\n",
    "\n",
    "## Part C – Evaluating the Loyalty Point Formula\n",
    "\n",
    "\n",
    "Analyze whether the current **loyalty point formula** is:\n",
    "\n",
    "- Balanced and rewarding across different user actions\n",
    "- Biased toward certain behaviors (e.g., deposits over games)\n",
    "- Abusable or easily gamed by players\n",
    "\n",
    "---\n"
   ]
  },
  {
   "cell_type": "markdown",
   "id": "c9bb0984-ca1d-4403-be11-5737e9bcdedd",
   "metadata": {
    "panel-layout": {
     "height": 50.8203125,
     "visible": true,
     "width": 100
    }
   },
   "source": [
    "## User Gameplay Data"
   ]
  },
  {
   "cell_type": "code",
   "execution_count": 2,
   "id": "a7ace777-8eb2-4f36-960f-8a5f56be3559",
   "metadata": {
    "panel-layout": {
     "height": 0,
     "visible": true,
     "width": 100
    }
   },
   "outputs": [
    {
     "name": "stdout",
     "output_type": "stream",
     "text": [
      "First few converted dates:\n",
      "0   2022-10-01\n",
      "1   2022-10-01\n",
      "2   2022-10-01\n",
      "3   2022-10-01\n",
      "4   2022-10-01\n",
      "Name: Datetime, dtype: datetime64[ns]\n",
      "\n",
      "All the unique dates found in the data:\n",
      "[datetime.date(2022, 10, 1) datetime.date(2022, 10, 2)\n",
      " datetime.date(2022, 10, 3) datetime.date(2022, 10, 4)\n",
      " datetime.date(2022, 10, 5) datetime.date(2022, 10, 6)\n",
      " datetime.date(2022, 10, 7) datetime.date(2022, 10, 8)\n",
      " datetime.date(2022, 10, 9) datetime.date(2022, 10, 10)\n",
      " datetime.date(2022, 10, 11) datetime.date(2022, 10, 12)\n",
      " datetime.date(2022, 10, 13) datetime.date(2022, 10, 14)\n",
      " datetime.date(2022, 10, 15) datetime.date(2022, 10, 16)\n",
      " datetime.date(2022, 10, 17) datetime.date(2022, 10, 18)\n",
      " datetime.date(2022, 10, 19) datetime.date(2022, 10, 20)\n",
      " datetime.date(2022, 10, 21) datetime.date(2022, 10, 22)\n",
      " datetime.date(2022, 10, 23) datetime.date(2022, 10, 24)\n",
      " datetime.date(2022, 10, 25) datetime.date(2022, 10, 26)\n",
      " datetime.date(2022, 10, 27) datetime.date(2022, 10, 28)\n",
      " datetime.date(2022, 10, 29) datetime.date(2022, 10, 30)\n",
      " datetime.date(2022, 10, 31)]\n",
      "\n",
      "Data types of each column in the dataframe:\n",
      "User ID                  int64\n",
      "Games Played             int64\n",
      "Datetime        datetime64[ns]\n",
      "dtype: object\n"
     ]
    }
   ],
   "source": [
    "import pandas as pd\n",
    "\n",
    "# This is the path to the CSV file extracted from Case Study excel file\n",
    "csv_path = '/Users/dishantkothia/downloads/case_study_datafile - gameplay.csv'\n",
    "\n",
    "# Read the CSV file using only the first three columns (columns 0, 1, and 2)\n",
    "user_gameplay_data = pd.read_csv(csv_path, usecols=[0, 1, 2])\n",
    "user_gameplay_data['Datetime'] = user_gameplay_data['Datetime'].astype(str)\n",
    "\n",
    "# Now I want to convert the 'Datetime' strings into actual datetime objects\n",
    "user_gameplay_data['Datetime'] = pd.to_datetime(user_gameplay_data['Datetime'], dayfirst=True, errors='coerce')\n",
    "\n",
    "# Let's check if the dates were converted properly\n",
    "print(\"First few converted dates:\")\n",
    "print(user_gameplay_data['Datetime'].head())\n",
    "\n",
    "print(\"\\nAll the unique dates found in the data:\")\n",
    "print(user_gameplay_data['Datetime'].dt.date.unique())\n",
    "\n",
    "print(\"\\nData types of each column in the dataframe:\")\n",
    "print(user_gameplay_data.dtypes)\n"
   ]
  },
  {
   "cell_type": "code",
   "execution_count": 3,
   "id": "c4a57065-d5ff-4f42-a080-4f18c08a97a9",
   "metadata": {
    "panel-layout": {
     "height": 249.50003051757812,
     "visible": true,
     "width": 100
    }
   },
   "outputs": [
    {
     "data": {
      "text/html": [
       "<div>\n",
       "<style scoped>\n",
       "    .dataframe tbody tr th:only-of-type {\n",
       "        vertical-align: middle;\n",
       "    }\n",
       "\n",
       "    .dataframe tbody tr th {\n",
       "        vertical-align: top;\n",
       "    }\n",
       "\n",
       "    .dataframe thead th {\n",
       "        text-align: right;\n",
       "    }\n",
       "</style>\n",
       "<table border=\"1\" class=\"dataframe\">\n",
       "  <thead>\n",
       "    <tr style=\"text-align: right;\">\n",
       "      <th></th>\n",
       "      <th>User ID</th>\n",
       "      <th>Games Played</th>\n",
       "      <th>Datetime</th>\n",
       "    </tr>\n",
       "  </thead>\n",
       "  <tbody>\n",
       "    <tr>\n",
       "      <th>count</th>\n",
       "      <td>355266.000000</td>\n",
       "      <td>355266.000000</td>\n",
       "      <td>355266</td>\n",
       "    </tr>\n",
       "    <tr>\n",
       "      <th>mean</th>\n",
       "      <td>542.417130</td>\n",
       "      <td>1.000003</td>\n",
       "      <td>2022-10-16 11:42:46.560774400</td>\n",
       "    </tr>\n",
       "    <tr>\n",
       "      <th>min</th>\n",
       "      <td>0.000000</td>\n",
       "      <td>1.000000</td>\n",
       "      <td>2022-10-01 00:00:00</td>\n",
       "    </tr>\n",
       "    <tr>\n",
       "      <th>25%</th>\n",
       "      <td>300.000000</td>\n",
       "      <td>1.000000</td>\n",
       "      <td>2022-10-08 16:57:00</td>\n",
       "    </tr>\n",
       "    <tr>\n",
       "      <th>50%</th>\n",
       "      <td>582.000000</td>\n",
       "      <td>1.000000</td>\n",
       "      <td>2022-10-16 11:58:00</td>\n",
       "    </tr>\n",
       "    <tr>\n",
       "      <th>75%</th>\n",
       "      <td>765.000000</td>\n",
       "      <td>1.000000</td>\n",
       "      <td>2022-10-24 05:50:00</td>\n",
       "    </tr>\n",
       "    <tr>\n",
       "      <th>max</th>\n",
       "      <td>999.000000</td>\n",
       "      <td>2.000000</td>\n",
       "      <td>2022-10-31 23:59:00</td>\n",
       "    </tr>\n",
       "    <tr>\n",
       "      <th>std</th>\n",
       "      <td>279.409789</td>\n",
       "      <td>0.001678</td>\n",
       "      <td>NaN</td>\n",
       "    </tr>\n",
       "  </tbody>\n",
       "</table>\n",
       "</div>"
      ],
      "text/plain": [
       "             User ID   Games Played                       Datetime\n",
       "count  355266.000000  355266.000000                         355266\n",
       "mean      542.417130       1.000003  2022-10-16 11:42:46.560774400\n",
       "min         0.000000       1.000000            2022-10-01 00:00:00\n",
       "25%       300.000000       1.000000            2022-10-08 16:57:00\n",
       "50%       582.000000       1.000000            2022-10-16 11:58:00\n",
       "75%       765.000000       1.000000            2022-10-24 05:50:00\n",
       "max       999.000000       2.000000            2022-10-31 23:59:00\n",
       "std       279.409789       0.001678                            NaN"
      ]
     },
     "execution_count": 3,
     "metadata": {},
     "output_type": "execute_result"
    }
   ],
   "source": [
    "user_gameplay_data.describe(include='all')"
   ]
  },
  {
   "cell_type": "markdown",
   "id": "eddc0cd2-f022-4d4e-a599-581b63410349",
   "metadata": {
    "panel-layout": {
     "height": 50.8203125,
     "visible": true,
     "width": 100
    }
   },
   "source": [
    "## Deposit Data"
   ]
  },
  {
   "cell_type": "code",
   "execution_count": 4,
   "id": "e0994df1-3267-4631-bb3d-ffd5d7ae467b",
   "metadata": {
    "panel-layout": {
     "height": 0,
     "visible": true,
     "width": 100
    }
   },
   "outputs": [
    {
     "name": "stdout",
     "output_type": "stream",
     "text": [
      "First few converted 'Datetime' values:\n",
      "0   2022-10-01 00:03:00\n",
      "1   2022-10-01 00:03:00\n",
      "2   2022-10-01 00:06:00\n",
      "3   2022-10-01 00:07:00\n",
      "4   2022-10-01 00:09:00\n",
      "Name: Datetime, dtype: datetime64[ns]\n",
      "\n",
      "Unique dates found in the 'Datetime' column:\n",
      "[datetime.date(2022, 10, 1) datetime.date(2022, 10, 2)\n",
      " datetime.date(2022, 10, 3) datetime.date(2022, 10, 4)\n",
      " datetime.date(2022, 10, 5) datetime.date(2022, 10, 6)\n",
      " datetime.date(2022, 10, 7) datetime.date(2022, 10, 8)\n",
      " datetime.date(2022, 10, 9) datetime.date(2022, 10, 10)\n",
      " datetime.date(2022, 10, 11) datetime.date(2022, 10, 12)\n",
      " datetime.date(2022, 10, 13) datetime.date(2022, 10, 14)\n",
      " datetime.date(2022, 10, 15) datetime.date(2022, 10, 16)\n",
      " datetime.date(2022, 10, 17) datetime.date(2022, 10, 18)\n",
      " datetime.date(2022, 10, 19) datetime.date(2022, 10, 20)\n",
      " datetime.date(2022, 10, 21) datetime.date(2022, 10, 22)\n",
      " datetime.date(2022, 10, 23) datetime.date(2022, 10, 24)\n",
      " datetime.date(2022, 10, 25) datetime.date(2022, 10, 26)\n",
      " datetime.date(2022, 10, 27) datetime.date(2022, 10, 28)\n",
      " datetime.date(2022, 10, 29) datetime.date(2022, 10, 30)\n",
      " datetime.date(2022, 10, 31)]\n",
      "\n",
      "Column data types in the dataframe:\n",
      "User Id              int64\n",
      "Datetime    datetime64[ns]\n",
      "Amount               int64\n",
      "dtype: object\n"
     ]
    }
   ],
   "source": [
    "import pandas as pd\n",
    "\n",
    "# This is the location of the CSV file that has deposit information\n",
    "csv_path = '/Users/dishantkothia/downloads/case_study_datafile - deposit.csv'\n",
    "\n",
    "deposit_data = pd.read_csv(csv_path, usecols=[0, 1, 2])\n",
    "\n",
    "deposit_data['Datetime'] = deposit_data['Datetime'].astype(str)\n",
    "\n",
    "deposit_data['Datetime'] = pd.to_datetime(deposit_data['Datetime'], dayfirst=True, errors='coerce')\n",
    "\n",
    "print(\"First few converted 'Datetime' values:\")\n",
    "print(deposit_data['Datetime'].head())\n",
    "\n",
    "print(\"\\nUnique dates found in the 'Datetime' column:\")\n",
    "print(deposit_data['Datetime'].dt.date.unique())\n",
    "\n",
    "print(\"\\nColumn data types in the dataframe:\")\n",
    "print(deposit_data.dtypes)\n"
   ]
  },
  {
   "cell_type": "code",
   "execution_count": 5,
   "id": "e4283260-09b9-406d-9207-74d215d5f320",
   "metadata": {
    "panel-layout": {
     "height": 249.5,
     "visible": true,
     "width": 100
    }
   },
   "outputs": [
    {
     "data": {
      "text/html": [
       "<div>\n",
       "<style scoped>\n",
       "    .dataframe tbody tr th:only-of-type {\n",
       "        vertical-align: middle;\n",
       "    }\n",
       "\n",
       "    .dataframe tbody tr th {\n",
       "        vertical-align: top;\n",
       "    }\n",
       "\n",
       "    .dataframe thead th {\n",
       "        text-align: right;\n",
       "    }\n",
       "</style>\n",
       "<table border=\"1\" class=\"dataframe\">\n",
       "  <thead>\n",
       "    <tr style=\"text-align: right;\">\n",
       "      <th></th>\n",
       "      <th>User Id</th>\n",
       "      <th>Datetime</th>\n",
       "      <th>Amount</th>\n",
       "    </tr>\n",
       "  </thead>\n",
       "  <tbody>\n",
       "    <tr>\n",
       "      <th>count</th>\n",
       "      <td>17438.000000</td>\n",
       "      <td>17438</td>\n",
       "      <td>17438.000000</td>\n",
       "    </tr>\n",
       "    <tr>\n",
       "      <th>mean</th>\n",
       "      <td>513.066005</td>\n",
       "      <td>2022-10-16 07:52:36.031654912</td>\n",
       "      <td>5492.185400</td>\n",
       "    </tr>\n",
       "    <tr>\n",
       "      <th>min</th>\n",
       "      <td>1.000000</td>\n",
       "      <td>2022-10-01 00:03:00</td>\n",
       "      <td>23.000000</td>\n",
       "    </tr>\n",
       "    <tr>\n",
       "      <th>25%</th>\n",
       "      <td>270.000000</td>\n",
       "      <td>2022-10-08 13:48:45</td>\n",
       "      <td>800.000000</td>\n",
       "    </tr>\n",
       "    <tr>\n",
       "      <th>50%</th>\n",
       "      <td>532.000000</td>\n",
       "      <td>2022-10-16 04:56:30</td>\n",
       "      <td>2000.000000</td>\n",
       "    </tr>\n",
       "    <tr>\n",
       "      <th>75%</th>\n",
       "      <td>760.000000</td>\n",
       "      <td>2022-10-24 03:24:45</td>\n",
       "      <td>5000.000000</td>\n",
       "    </tr>\n",
       "    <tr>\n",
       "      <th>max</th>\n",
       "      <td>999.000000</td>\n",
       "      <td>2022-10-31 23:59:00</td>\n",
       "      <td>400400.000000</td>\n",
       "    </tr>\n",
       "    <tr>\n",
       "      <th>std</th>\n",
       "      <td>290.101986</td>\n",
       "      <td>NaN</td>\n",
       "      <td>12046.364959</td>\n",
       "    </tr>\n",
       "  </tbody>\n",
       "</table>\n",
       "</div>"
      ],
      "text/plain": [
       "            User Id                       Datetime         Amount\n",
       "count  17438.000000                          17438   17438.000000\n",
       "mean     513.066005  2022-10-16 07:52:36.031654912    5492.185400\n",
       "min        1.000000            2022-10-01 00:03:00      23.000000\n",
       "25%      270.000000            2022-10-08 13:48:45     800.000000\n",
       "50%      532.000000            2022-10-16 04:56:30    2000.000000\n",
       "75%      760.000000            2022-10-24 03:24:45    5000.000000\n",
       "max      999.000000            2022-10-31 23:59:00  400400.000000\n",
       "std      290.101986                            NaN   12046.364959"
      ]
     },
     "execution_count": 5,
     "metadata": {},
     "output_type": "execute_result"
    }
   ],
   "source": [
    "deposit_data.describe()"
   ]
  },
  {
   "cell_type": "markdown",
   "id": "f143d507-6083-4386-aea3-0eda42c03225",
   "metadata": {
    "panel-layout": {
     "height": 50.820281982421875,
     "visible": true,
     "width": 100
    }
   },
   "source": [
    "## Withdrawal Data"
   ]
  },
  {
   "cell_type": "code",
   "execution_count": 6,
   "id": "58474406-4d63-4646-8127-8587dbecda4a",
   "metadata": {
    "panel-layout": {
     "height": 0,
     "visible": true,
     "width": 100
    }
   },
   "outputs": [
    {
     "name": "stdout",
     "output_type": "stream",
     "text": [
      "First few converted 'Datetime' values:\n",
      "0   2022-10-01 00:03:00\n",
      "1   2022-10-01 00:16:00\n",
      "2   2022-10-01 00:24:00\n",
      "3   2022-10-01 00:29:00\n",
      "4   2022-10-01 00:40:00\n",
      "Name: Datetime, dtype: datetime64[ns]\n",
      "\n",
      "Unique dates in the 'Datetime' column:\n",
      "[datetime.date(2022, 10, 1) datetime.date(2022, 10, 2)\n",
      " datetime.date(2022, 10, 3) datetime.date(2022, 10, 4)\n",
      " datetime.date(2022, 10, 5) datetime.date(2022, 10, 6)\n",
      " datetime.date(2022, 10, 7) datetime.date(2022, 10, 8)\n",
      " datetime.date(2022, 10, 9) datetime.date(2022, 10, 10)\n",
      " datetime.date(2022, 10, 11) datetime.date(2022, 10, 12)\n",
      " datetime.date(2022, 10, 13) datetime.date(2022, 10, 14)\n",
      " datetime.date(2022, 10, 15) datetime.date(2022, 10, 16)\n",
      " datetime.date(2022, 10, 17) datetime.date(2022, 10, 18)\n",
      " datetime.date(2022, 10, 19) datetime.date(2022, 10, 20)\n",
      " datetime.date(2022, 10, 21) datetime.date(2022, 10, 22)\n",
      " datetime.date(2022, 10, 23) datetime.date(2022, 10, 24)\n",
      " datetime.date(2022, 10, 25) datetime.date(2022, 10, 26)\n",
      " datetime.date(2022, 10, 27) datetime.date(2022, 10, 28)\n",
      " datetime.date(2022, 10, 29) datetime.date(2022, 10, 30)\n",
      " datetime.date(2022, 10, 31)]\n",
      "\n",
      "Column data types in the dataframe:\n",
      "User Id              int64\n",
      "Datetime    datetime64[ns]\n",
      "Amount               int64\n",
      "dtype: object\n"
     ]
    }
   ],
   "source": [
    "import pandas as pd\n",
    "\n",
    "# This is the path to the CSV file that contains withdrawal information\n",
    "csv_path = '/Users/dishantkothia/downloads/case_study_datafile - withdrawal.csv'\n",
    "\n",
    "# I'm reading the CSV file and selecting only the first three columns\n",
    "\n",
    "withdrawal_data = pd.read_csv(csv_path, usecols=[0, 1, 2])\n",
    "\n",
    "# Before converting, I’ll make sure the 'Datetime' column is treated as a string\n",
    "withdrawal_data['Datetime'] = withdrawal_data['Datetime'].astype(str)\n",
    "\n",
    "# Now I will convert the 'Datetime' column to actual date/time format\n",
    "withdrawal_data['Datetime'] = pd.to_datetime(withdrawal_data['Datetime'], dayfirst=True, errors='coerce')\n",
    "\n",
    "# First few converted dates to check if it worked\n",
    "print(\"First few converted 'Datetime' values:\")\n",
    "print(withdrawal_data['Datetime'].head())\n",
    "\n",
    "# Now I’ll print out all the unique dates found in the data\n",
    "print(\"\\nUnique dates in the 'Datetime' column:\")\n",
    "print(withdrawal_data['Datetime'].dt.date.unique())\n",
    "\n",
    "# Finally, let's check the data types of all columns\n",
    "print(\"\\nColumn data types in the dataframe:\")\n",
    "print(withdrawal_data.dtypes)\n"
   ]
  },
  {
   "cell_type": "code",
   "execution_count": 7,
   "id": "750f0eb5-955a-4f76-84ea-99fce64c2cd1",
   "metadata": {
    "panel-layout": {
     "height": 249.5,
     "visible": true,
     "width": 100
    }
   },
   "outputs": [
    {
     "data": {
      "text/html": [
       "<div>\n",
       "<style scoped>\n",
       "    .dataframe tbody tr th:only-of-type {\n",
       "        vertical-align: middle;\n",
       "    }\n",
       "\n",
       "    .dataframe tbody tr th {\n",
       "        vertical-align: top;\n",
       "    }\n",
       "\n",
       "    .dataframe thead th {\n",
       "        text-align: right;\n",
       "    }\n",
       "</style>\n",
       "<table border=\"1\" class=\"dataframe\">\n",
       "  <thead>\n",
       "    <tr style=\"text-align: right;\">\n",
       "      <th></th>\n",
       "      <th>User Id</th>\n",
       "      <th>Datetime</th>\n",
       "      <th>Amount</th>\n",
       "    </tr>\n",
       "  </thead>\n",
       "  <tbody>\n",
       "    <tr>\n",
       "      <th>count</th>\n",
       "      <td>3566.000000</td>\n",
       "      <td>3566</td>\n",
       "      <td>3.566000e+03</td>\n",
       "    </tr>\n",
       "    <tr>\n",
       "      <th>mean</th>\n",
       "      <td>509.116657</td>\n",
       "      <td>2022-10-16 14:39:27.408861440</td>\n",
       "      <td>2.355010e+04</td>\n",
       "    </tr>\n",
       "    <tr>\n",
       "      <th>min</th>\n",
       "      <td>2.000000</td>\n",
       "      <td>2022-10-01 00:03:00</td>\n",
       "      <td>1.000000e+02</td>\n",
       "    </tr>\n",
       "    <tr>\n",
       "      <th>25%</th>\n",
       "      <td>212.000000</td>\n",
       "      <td>2022-10-09 00:33:00</td>\n",
       "      <td>3.300000e+03</td>\n",
       "    </tr>\n",
       "    <tr>\n",
       "      <th>50%</th>\n",
       "      <td>511.500000</td>\n",
       "      <td>2022-10-16 10:17:00</td>\n",
       "      <td>8.000000e+03</td>\n",
       "    </tr>\n",
       "    <tr>\n",
       "      <th>75%</th>\n",
       "      <td>795.000000</td>\n",
       "      <td>2022-10-24 13:04:00</td>\n",
       "      <td>2.000000e+04</td>\n",
       "    </tr>\n",
       "    <tr>\n",
       "      <th>max</th>\n",
       "      <td>992.000000</td>\n",
       "      <td>2022-10-31 23:58:00</td>\n",
       "      <td>1.100000e+06</td>\n",
       "    </tr>\n",
       "    <tr>\n",
       "      <th>std</th>\n",
       "      <td>305.839395</td>\n",
       "      <td>NaN</td>\n",
       "      <td>5.359007e+04</td>\n",
       "    </tr>\n",
       "  </tbody>\n",
       "</table>\n",
       "</div>"
      ],
      "text/plain": [
       "           User Id                       Datetime        Amount\n",
       "count  3566.000000                           3566  3.566000e+03\n",
       "mean    509.116657  2022-10-16 14:39:27.408861440  2.355010e+04\n",
       "min       2.000000            2022-10-01 00:03:00  1.000000e+02\n",
       "25%     212.000000            2022-10-09 00:33:00  3.300000e+03\n",
       "50%     511.500000            2022-10-16 10:17:00  8.000000e+03\n",
       "75%     795.000000            2022-10-24 13:04:00  2.000000e+04\n",
       "max     992.000000            2022-10-31 23:58:00  1.100000e+06\n",
       "std     305.839395                            NaN  5.359007e+04"
      ]
     },
     "execution_count": 7,
     "metadata": {},
     "output_type": "execute_result"
    }
   ],
   "source": [
    "withdrawal_data.describe(include='all')"
   ]
  },
  {
   "cell_type": "markdown",
   "id": "bb306071-714b-4153-9f3f-ff0ee1b9b67a",
   "metadata": {
    "panel-layout": {
     "height": 156.8828125,
     "visible": true,
     "width": 100
    }
   },
   "source": [
    "#### 1. **Slot-wise Loyalty Points**\n",
    "Calculate player-wise loyalty points earned for the following slots:\n",
    "\n",
    "- **2nd October** → **Slot S1**\n",
    "- **16th October** → **Slot S2**\n",
    "- **18th October** → **Slot S1**\n",
    "- **26th October** → **Slot S2**"
   ]
  },
  {
   "cell_type": "code",
   "execution_count": 8,
   "id": "d6e44364-8454-4bda-8bb7-893a10f730fd",
   "metadata": {},
   "outputs": [],
   "source": [
    "import pandas as pd\n",
    "\n",
    "def calculate_loyalty_points_for_slot(slot_date, slot, deposit_data, withdrawal_data, gameplay_data):\n",
    "    # Make sure all 'Datetime' columns are actual datetime values\n",
    "    deposit_data['Datetime'] = pd.to_datetime(deposit_data['Datetime'], dayfirst=True, errors='coerce')\n",
    "    withdrawal_data['Datetime'] = pd.to_datetime(withdrawal_data['Datetime'], dayfirst=True, errors='coerce')\n",
    "    gameplay_data['Datetime'] = pd.to_datetime(gameplay_data['Datetime'], dayfirst=True, errors='coerce')\n",
    "\n",
    "    # Figure out the time range based on the slot\n",
    "    if slot == 'S1':\n",
    "        start_time = pd.Timestamp(slot_date + \" 00:00:00\")\n",
    "        end_time = pd.Timestamp(slot_date + \" 12:00:00\")\n",
    "    elif slot == 'S2':\n",
    "        start_time = pd.Timestamp(slot_date + \" 12:00:00\")\n",
    "        end_time = pd.Timestamp(slot_date + \" 23:59:59\")\n",
    "    else:\n",
    "        print(\"Slot must be S1 or S2\")\n",
    "        return None\n",
    "\n",
    "    # Filter each dataset by the slot time\n",
    "    dep = deposit_data[(deposit_data['Datetime'] >= start_time) & (deposit_data['Datetime'] < end_time)]\n",
    "    wd = withdrawal_data[(withdrawal_data['Datetime'] >= start_time) & (withdrawal_data['Datetime'] < end_time)]\n",
    "    gp = gameplay_data[(gameplay_data['Datetime'] >= start_time) & (gameplay_data['Datetime'] < end_time)]\n",
    "\n",
    "    # Group by user and get totals\n",
    "    dep_grouped = dep.groupby('User Id').agg({'Amount': ['sum', 'count']}).reset_index()\n",
    "    dep_grouped.columns = ['User Id', 'total_deposit_amount', 'deposit_count']\n",
    "\n",
    "    wd_grouped = wd.groupby('User Id').agg({'Amount': ['sum', 'count']}).reset_index()\n",
    "    wd_grouped.columns = ['User Id', 'total_withdrawal_amount', 'withdrawal_count']\n",
    "\n",
    "    gp_grouped = gp.groupby('User ID').agg({'Games Played': 'sum'}).reset_index()\n",
    "    gp_grouped = gp_grouped.rename(columns={'User ID': 'User Id', 'Games Played': 'games_played'})\n",
    "\n",
    "    # Merge all dataframes together\n",
    "    merged = pd.merge(dep_grouped, wd_grouped, on='User Id', how='outer')\n",
    "    merged = pd.merge(merged, gp_grouped, on='User Id', how='outer')\n",
    "    merged = merged.fillna(0)\n",
    "\n",
    "    # Calculate loyalty points\n",
    "    merged['loyalty_points'] = (\n",
    "        0.01 * merged['total_deposit_amount'] +\n",
    "        0.005 * merged['total_withdrawal_amount'] +\n",
    "        0.001 * (merged['deposit_count'] - merged['withdrawal_count']).clip(lower=0) +\n",
    "        0.2 * merged['games_played']\n",
    "    ).round(3)\n",
    "\n",
    "    return merged[['User Id', 'loyalty_points']]\n"
   ]
  },
  {
   "cell_type": "code",
   "execution_count": 9,
   "id": "a3043f90-56f2-43cc-9790-9c9222962123",
   "metadata": {
    "panel-layout": {
     "height": 16891.5,
     "visible": true,
     "width": 100
    }
   },
   "outputs": [
    {
     "data": {
      "text/html": [
       "<div>\n",
       "<style scoped>\n",
       "    .dataframe tbody tr th:only-of-type {\n",
       "        vertical-align: middle;\n",
       "    }\n",
       "\n",
       "    .dataframe tbody tr th {\n",
       "        vertical-align: top;\n",
       "    }\n",
       "\n",
       "    .dataframe thead th {\n",
       "        text-align: right;\n",
       "    }\n",
       "</style>\n",
       "<table border=\"1\" class=\"dataframe\">\n",
       "  <thead>\n",
       "    <tr style=\"text-align: right;\">\n",
       "      <th></th>\n",
       "      <th>User Id</th>\n",
       "      <th>loyalty_points</th>\n",
       "    </tr>\n",
       "  </thead>\n",
       "  <tbody>\n",
       "    <tr>\n",
       "      <th>395</th>\n",
       "      <td>634</td>\n",
       "      <td>1478.355</td>\n",
       "    </tr>\n",
       "    <tr>\n",
       "      <th>423</th>\n",
       "      <td>672</td>\n",
       "      <td>1300.000</td>\n",
       "    </tr>\n",
       "    <tr>\n",
       "      <th>349</th>\n",
       "      <td>566</td>\n",
       "      <td>1250.406</td>\n",
       "    </tr>\n",
       "    <tr>\n",
       "      <th>605</th>\n",
       "      <td>949</td>\n",
       "      <td>677.500</td>\n",
       "    </tr>\n",
       "    <tr>\n",
       "      <th>267</th>\n",
       "      <td>446</td>\n",
       "      <td>550.202</td>\n",
       "    </tr>\n",
       "    <tr>\n",
       "      <th>...</th>\n",
       "      <td>...</td>\n",
       "      <td>...</td>\n",
       "    </tr>\n",
       "    <tr>\n",
       "      <th>192</th>\n",
       "      <td>334</td>\n",
       "      <td>0.200</td>\n",
       "    </tr>\n",
       "    <tr>\n",
       "      <th>470</th>\n",
       "      <td>752</td>\n",
       "      <td>0.200</td>\n",
       "    </tr>\n",
       "    <tr>\n",
       "      <th>200</th>\n",
       "      <td>346</td>\n",
       "      <td>0.200</td>\n",
       "    </tr>\n",
       "    <tr>\n",
       "      <th>321</th>\n",
       "      <td>527</td>\n",
       "      <td>0.200</td>\n",
       "    </tr>\n",
       "    <tr>\n",
       "      <th>194</th>\n",
       "      <td>336</td>\n",
       "      <td>0.200</td>\n",
       "    </tr>\n",
       "  </tbody>\n",
       "</table>\n",
       "<p>636 rows × 2 columns</p>\n",
       "</div>"
      ],
      "text/plain": [
       "     User Id  loyalty_points\n",
       "395      634        1478.355\n",
       "423      672        1300.000\n",
       "349      566        1250.406\n",
       "605      949         677.500\n",
       "267      446         550.202\n",
       "..       ...             ...\n",
       "192      334           0.200\n",
       "470      752           0.200\n",
       "200      346           0.200\n",
       "321      527           0.200\n",
       "194      336           0.200\n",
       "\n",
       "[636 rows x 2 columns]"
      ]
     },
     "execution_count": 9,
     "metadata": {},
     "output_type": "execute_result"
    }
   ],
   "source": [
    "# 2nd October, Slot S1\n",
    "slot_result = calculate_loyalty_points_for_slot(\n",
    "    slot_date='2022-10-02',\n",
    "    slot='S1',\n",
    "    deposit_data=deposit_data,\n",
    "    withdrawal_data=withdrawal_data,\n",
    "    gameplay_data=user_gameplay_data\n",
    ")\n",
    "\n",
    "slot_result.sort_values(by='loyalty_points', ascending=False)\n"
   ]
  },
  {
   "cell_type": "code",
   "execution_count": 10,
   "id": "35f3eaa9-3601-438c-9bb0-f1b80fbf54bb",
   "metadata": {
    "panel-layout": {
     "height": 15778.5009765625,
     "visible": true,
     "width": 100
    }
   },
   "outputs": [
    {
     "data": {
      "text/html": [
       "<div>\n",
       "<style scoped>\n",
       "    .dataframe tbody tr th:only-of-type {\n",
       "        vertical-align: middle;\n",
       "    }\n",
       "\n",
       "    .dataframe tbody tr th {\n",
       "        vertical-align: top;\n",
       "    }\n",
       "\n",
       "    .dataframe thead th {\n",
       "        text-align: right;\n",
       "    }\n",
       "</style>\n",
       "<table border=\"1\" class=\"dataframe\">\n",
       "  <thead>\n",
       "    <tr style=\"text-align: right;\">\n",
       "      <th></th>\n",
       "      <th>User Id</th>\n",
       "      <th>loyalty_points</th>\n",
       "    </tr>\n",
       "  </thead>\n",
       "  <tbody>\n",
       "    <tr>\n",
       "      <th>365</th>\n",
       "      <td>634</td>\n",
       "      <td>1491.555</td>\n",
       "    </tr>\n",
       "    <tr>\n",
       "      <th>122</th>\n",
       "      <td>212</td>\n",
       "      <td>999.991</td>\n",
       "    </tr>\n",
       "    <tr>\n",
       "      <th>51</th>\n",
       "      <td>99</td>\n",
       "      <td>980.002</td>\n",
       "    </tr>\n",
       "    <tr>\n",
       "      <th>15</th>\n",
       "      <td>28</td>\n",
       "      <td>900.004</td>\n",
       "    </tr>\n",
       "    <tr>\n",
       "      <th>328</th>\n",
       "      <td>566</td>\n",
       "      <td>880.203</td>\n",
       "    </tr>\n",
       "    <tr>\n",
       "      <th>...</th>\n",
       "      <td>...</td>\n",
       "      <td>...</td>\n",
       "    </tr>\n",
       "    <tr>\n",
       "      <th>304</th>\n",
       "      <td>526</td>\n",
       "      <td>0.200</td>\n",
       "    </tr>\n",
       "    <tr>\n",
       "      <th>307</th>\n",
       "      <td>533</td>\n",
       "      <td>0.200</td>\n",
       "    </tr>\n",
       "    <tr>\n",
       "      <th>309</th>\n",
       "      <td>536</td>\n",
       "      <td>0.200</td>\n",
       "    </tr>\n",
       "    <tr>\n",
       "      <th>491</th>\n",
       "      <td>841</td>\n",
       "      <td>0.200</td>\n",
       "    </tr>\n",
       "    <tr>\n",
       "      <th>593</th>\n",
       "      <td>999</td>\n",
       "      <td>0.200</td>\n",
       "    </tr>\n",
       "  </tbody>\n",
       "</table>\n",
       "<p>594 rows × 2 columns</p>\n",
       "</div>"
      ],
      "text/plain": [
       "     User Id  loyalty_points\n",
       "365      634        1491.555\n",
       "122      212         999.991\n",
       "51        99         980.002\n",
       "15        28         900.004\n",
       "328      566         880.203\n",
       "..       ...             ...\n",
       "304      526           0.200\n",
       "307      533           0.200\n",
       "309      536           0.200\n",
       "491      841           0.200\n",
       "593      999           0.200\n",
       "\n",
       "[594 rows x 2 columns]"
      ]
     },
     "execution_count": 10,
     "metadata": {},
     "output_type": "execute_result"
    }
   ],
   "source": [
    "# 16th October, Slot S2\n",
    "slot_result = calculate_loyalty_points_for_slot(\n",
    "    slot_date='2022-10-16',\n",
    "    slot='S2',\n",
    "    deposit_data=deposit_data,\n",
    "    withdrawal_data=withdrawal_data,\n",
    "    gameplay_data=user_gameplay_data\n",
    ")\n",
    "\n",
    "slot_result.sort_values(by='loyalty_points', ascending=False)"
   ]
  },
  {
   "cell_type": "code",
   "execution_count": 11,
   "id": "3aa32d34-448c-4ec4-959a-cdf5ec1cc74f",
   "metadata": {
    "panel-layout": {
     "height": 16520.5,
     "visible": true,
     "width": 100
    }
   },
   "outputs": [
    {
     "data": {
      "text/html": [
       "<div>\n",
       "<style scoped>\n",
       "    .dataframe tbody tr th:only-of-type {\n",
       "        vertical-align: middle;\n",
       "    }\n",
       "\n",
       "    .dataframe tbody tr th {\n",
       "        vertical-align: top;\n",
       "    }\n",
       "\n",
       "    .dataframe thead th {\n",
       "        text-align: right;\n",
       "    }\n",
       "</style>\n",
       "<table border=\"1\" class=\"dataframe\">\n",
       "  <thead>\n",
       "    <tr style=\"text-align: right;\">\n",
       "      <th></th>\n",
       "      <th>User Id</th>\n",
       "      <th>loyalty_points</th>\n",
       "    </tr>\n",
       "  </thead>\n",
       "  <tbody>\n",
       "    <tr>\n",
       "      <th>391</th>\n",
       "      <td>634</td>\n",
       "      <td>2723.100</td>\n",
       "    </tr>\n",
       "    <tr>\n",
       "      <th>122</th>\n",
       "      <td>208</td>\n",
       "      <td>1701.401</td>\n",
       "    </tr>\n",
       "    <tr>\n",
       "      <th>419</th>\n",
       "      <td>673</td>\n",
       "      <td>900.801</td>\n",
       "    </tr>\n",
       "    <tr>\n",
       "      <th>92</th>\n",
       "      <td>162</td>\n",
       "      <td>770.000</td>\n",
       "    </tr>\n",
       "    <tr>\n",
       "      <th>147</th>\n",
       "      <td>245</td>\n",
       "      <td>750.000</td>\n",
       "    </tr>\n",
       "    <tr>\n",
       "      <th>...</th>\n",
       "      <td>...</td>\n",
       "      <td>...</td>\n",
       "    </tr>\n",
       "    <tr>\n",
       "      <th>269</th>\n",
       "      <td>443</td>\n",
       "      <td>0.200</td>\n",
       "    </tr>\n",
       "    <tr>\n",
       "      <th>270</th>\n",
       "      <td>444</td>\n",
       "      <td>0.200</td>\n",
       "    </tr>\n",
       "    <tr>\n",
       "      <th>272</th>\n",
       "      <td>446</td>\n",
       "      <td>0.200</td>\n",
       "    </tr>\n",
       "    <tr>\n",
       "      <th>511</th>\n",
       "      <td>818</td>\n",
       "      <td>0.200</td>\n",
       "    </tr>\n",
       "    <tr>\n",
       "      <th>311</th>\n",
       "      <td>513</td>\n",
       "      <td>0.200</td>\n",
       "    </tr>\n",
       "  </tbody>\n",
       "</table>\n",
       "<p>622 rows × 2 columns</p>\n",
       "</div>"
      ],
      "text/plain": [
       "     User Id  loyalty_points\n",
       "391      634        2723.100\n",
       "122      208        1701.401\n",
       "419      673         900.801\n",
       "92       162         770.000\n",
       "147      245         750.000\n",
       "..       ...             ...\n",
       "269      443           0.200\n",
       "270      444           0.200\n",
       "272      446           0.200\n",
       "511      818           0.200\n",
       "311      513           0.200\n",
       "\n",
       "[622 rows x 2 columns]"
      ]
     },
     "execution_count": 11,
     "metadata": {},
     "output_type": "execute_result"
    }
   ],
   "source": [
    "# 18th October, Slot S1\n",
    "slot_result = calculate_loyalty_points_for_slot(\n",
    "    slot_date='2022-10-18',\n",
    "    slot='S1',\n",
    "    deposit_data=deposit_data,\n",
    "    withdrawal_data=withdrawal_data,\n",
    "    gameplay_data=user_gameplay_data\n",
    ")\n",
    "\n",
    "slot_result.sort_values(by='loyalty_points', ascending=False)"
   ]
  },
  {
   "cell_type": "code",
   "execution_count": 12,
   "id": "c7065950-c945-4822-b97b-0e495113ae18",
   "metadata": {
    "panel-layout": {
     "height": 16679.5,
     "visible": true,
     "width": 100
    }
   },
   "outputs": [
    {
     "data": {
      "text/html": [
       "<div>\n",
       "<style scoped>\n",
       "    .dataframe tbody tr th:only-of-type {\n",
       "        vertical-align: middle;\n",
       "    }\n",
       "\n",
       "    .dataframe tbody tr th {\n",
       "        vertical-align: top;\n",
       "    }\n",
       "\n",
       "    .dataframe thead th {\n",
       "        text-align: right;\n",
       "    }\n",
       "</style>\n",
       "<table border=\"1\" class=\"dataframe\">\n",
       "  <thead>\n",
       "    <tr style=\"text-align: right;\">\n",
       "      <th></th>\n",
       "      <th>User Id</th>\n",
       "      <th>loyalty_points</th>\n",
       "    </tr>\n",
       "  </thead>\n",
       "  <tbody>\n",
       "    <tr>\n",
       "      <th>447</th>\n",
       "      <td>714</td>\n",
       "      <td>2000.001</td>\n",
       "    </tr>\n",
       "    <tr>\n",
       "      <th>227</th>\n",
       "      <td>369</td>\n",
       "      <td>1501.915</td>\n",
       "    </tr>\n",
       "    <tr>\n",
       "      <th>393</th>\n",
       "      <td>634</td>\n",
       "      <td>1237.010</td>\n",
       "    </tr>\n",
       "    <tr>\n",
       "      <th>329</th>\n",
       "      <td>538</td>\n",
       "      <td>1200.403</td>\n",
       "    </tr>\n",
       "    <tr>\n",
       "      <th>0</th>\n",
       "      <td>2</td>\n",
       "      <td>900.002</td>\n",
       "    </tr>\n",
       "    <tr>\n",
       "      <th>...</th>\n",
       "      <td>...</td>\n",
       "      <td>...</td>\n",
       "    </tr>\n",
       "    <tr>\n",
       "      <th>478</th>\n",
       "      <td>766</td>\n",
       "      <td>0.200</td>\n",
       "    </tr>\n",
       "    <tr>\n",
       "      <th>479</th>\n",
       "      <td>767</td>\n",
       "      <td>0.200</td>\n",
       "    </tr>\n",
       "    <tr>\n",
       "      <th>238</th>\n",
       "      <td>385</td>\n",
       "      <td>0.200</td>\n",
       "    </tr>\n",
       "    <tr>\n",
       "      <th>113</th>\n",
       "      <td>185</td>\n",
       "      <td>0.200</td>\n",
       "    </tr>\n",
       "    <tr>\n",
       "      <th>627</th>\n",
       "      <td>999</td>\n",
       "      <td>0.200</td>\n",
       "    </tr>\n",
       "  </tbody>\n",
       "</table>\n",
       "<p>628 rows × 2 columns</p>\n",
       "</div>"
      ],
      "text/plain": [
       "     User Id  loyalty_points\n",
       "447      714        2000.001\n",
       "227      369        1501.915\n",
       "393      634        1237.010\n",
       "329      538        1200.403\n",
       "0          2         900.002\n",
       "..       ...             ...\n",
       "478      766           0.200\n",
       "479      767           0.200\n",
       "238      385           0.200\n",
       "113      185           0.200\n",
       "627      999           0.200\n",
       "\n",
       "[628 rows x 2 columns]"
      ]
     },
     "execution_count": 12,
     "metadata": {},
     "output_type": "execute_result"
    }
   ],
   "source": [
    "# 26th October, Slot S2\n",
    "slot_result = calculate_loyalty_points_for_slot(\n",
    "    slot_date='2022-10-26',\n",
    "    slot='S2',\n",
    "    deposit_data=deposit_data,\n",
    "    withdrawal_data=withdrawal_data,\n",
    "    gameplay_data=user_gameplay_data\n",
    ")\n",
    "\n",
    "slot_result.sort_values(by='loyalty_points', ascending=False)"
   ]
  },
  {
   "cell_type": "markdown",
   "id": "f4c8db22-75f3-4f5a-89db-d4aaae3b3f0a",
   "metadata": {
    "panel-layout": {
     "height": 127.7421875,
     "visible": true,
     "width": 100
    }
   },
   "source": [
    "#### 2. **Monthly Loyalty Leaderboard**\n",
    "- Calculate **total loyalty points earned by each player** during **October**.\n",
    "- Rank players based on:\n",
    "  1. **Loyalty points (descending)**\n",
    "  2. **Number of games played** (as a tiebreaker)"
   ]
  },
  {
   "cell_type": "code",
   "execution_count": 13,
   "id": "6d5f49ff-b39d-4e98-9f9a-4d538b4245bd",
   "metadata": {
    "panel-layout": {
     "height": 0,
     "visible": true,
     "width": 100
    }
   },
   "outputs": [
    {
     "name": "stdout",
     "output_type": "stream",
     "text": [
      "     User ID  Games Played  Total_Deposit_Amount  Total_Withdrawal_Amount  \\\n",
      "634      634          23.0              515000.0               15137772.0   \n",
      "99        99          10.0             1116800.0                2403141.0   \n",
      "672      672           9.0             2068700.0                 233750.0   \n",
      "212      212           1.0             1874982.0                 589850.0   \n",
      "566      566         177.0             1769175.0                 185071.0   \n",
      "740      740           2.0             1619990.0                 365288.0   \n",
      "714      714           6.0             1615300.0                      0.0   \n",
      "421      421        1508.0              858600.0                1228509.0   \n",
      "30        30          13.0             1304000.0                 152145.0   \n",
      "369      369          36.0              650000.0                1427780.0   \n",
      "\n",
      "     Num_Deposits  Num_Withdrawals  Loyalty Points     Last Active Date  Rank  \n",
      "634           8.0             64.0       80843.460  2022-10-30 16:59:00     1  \n",
      "99           45.0             15.0       23185.735  2022-10-28 14:01:00     2  \n",
      "672          33.0              5.0       21857.578  2022-10-30 21:13:00     3  \n",
      "212          25.0              4.0       21699.291  2022-10-03 21:57:00     4  \n",
      "566          52.0              3.0       18652.554  2022-10-30 16:22:00     5  \n",
      "740          85.0              7.0       18026.818  2022-10-20 22:21:00     6  \n",
      "714          33.0              0.0       16154.233  2022-10-25 08:29:00     7  \n",
      "421          97.0             81.0       15030.161  2022-10-30 23:54:00     8  \n",
      "30           50.0              1.0       13803.374  2022-10-30 06:15:00     9  \n",
      "369          13.0              8.0       13646.105  2022-10-28 12:04:00    10  \n"
     ]
    }
   ],
   "source": [
    "import pandas as pd\n",
    "\n",
    "# Set date range for October\n",
    "start_date = '2022-10-01'\n",
    "end_date = '2022-10-31'\n",
    "\n",
    "# Filter each dataset for October\n",
    "gameplay_oct = user_gameplay_data[(user_gameplay_data['Datetime'] >= start_date) & (user_gameplay_data['Datetime'] <= end_date)]\n",
    "deposit_oct = deposit_data[(deposit_data['Datetime'] >= start_date) & (deposit_data['Datetime'] <= end_date)]\n",
    "withdrawal_oct = withdrawal_data[(withdrawal_data['Datetime'] >= start_date) & (withdrawal_data['Datetime'] <= end_date)]\n",
    "\n",
    "# Total games played\n",
    "games = gameplay_oct.groupby('User ID')['Games Played'].sum().reset_index()\n",
    "# Last time each user played\n",
    "last_played = gameplay_oct.groupby('User ID')['Datetime'].max().reset_index()\n",
    "last_played.columns = ['User ID', 'Last Active Date']\n",
    "\n",
    "# Deposits\n",
    "deposits = deposit_oct.groupby('User Id')['Amount'].agg(['sum', 'count']).reset_index()\n",
    "deposits.columns = ['User ID', 'Total_Deposit_Amount', 'Num_Deposits']\n",
    "\n",
    "# Withdrawals\n",
    "withdrawals = withdrawal_oct.groupby('User Id')['Amount'].agg(['sum', 'count']).reset_index()\n",
    "withdrawals.columns = ['User ID', 'Total_Withdrawal_Amount', 'Num_Withdrawals']\n",
    "\n",
    "# Merge everything\n",
    "df = pd.merge(games, last_played, on='User ID', how='left')\n",
    "df = pd.merge(df, deposits, on='User ID', how='outer')\n",
    "df = pd.merge(df, withdrawals, on='User ID', how='outer')\n",
    "\n",
    "# Fill missing values with 0\n",
    "df = df.fillna(0)\n",
    "\n",
    "# Calculate points\n",
    "df['Loyalty Points'] = (\n",
    "    0.01 * df['Total_Deposit_Amount'] +\n",
    "    0.005 * df['Total_Withdrawal_Amount'] +\n",
    "    0.001 * (df['Num_Deposits'] - df['Num_Withdrawals']).clip(lower=0) +\n",
    "    0.2 * df['Games Played']\n",
    ")\n",
    "\n",
    "# Rank users\n",
    "leaderboard = df.sort_values(by=['Loyalty Points', 'Games Played'], ascending=[False, False])\n",
    "leaderboard['Rank'] = df.reset_index().index + 1\n",
    "\n",
    "# Show top 10\n",
    "print(leaderboard[['User ID', 'Games Played', 'Total_Deposit_Amount', 'Total_Withdrawal_Amount',\n",
    "          'Num_Deposits', 'Num_Withdrawals', 'Loyalty Points', 'Last Active Date', 'Rank']].head(10))\n"
   ]
  },
  {
   "cell_type": "markdown",
   "id": "d1ba274c-2fc7-4c8f-81ad-c71ff71dc588",
   "metadata": {
    "panel-layout": {
     "height": 76.3203125,
     "visible": true,
     "width": 100
    }
   },
   "source": [
    "#### 3. **Average Deposit Amount**\n",
    "- Calculate the **average deposit amount** across all transactions."
   ]
  },
  {
   "cell_type": "code",
   "execution_count": 14,
   "id": "b606191b-e329-45e2-8f68-23e55b2ff3c8",
   "metadata": {
    "panel-layout": {
     "height": 0,
     "visible": true,
     "width": 100
    }
   },
   "outputs": [
    {
     "name": "stdout",
     "output_type": "stream",
     "text": [
      "Average Deposit Amount: ₹5492.19\n"
     ]
    }
   ],
   "source": [
    "average_deposit = deposit_data['Amount'].mean()\n",
    "print(f\"Average Deposit Amount: ₹{average_deposit:.2f}\")\n"
   ]
  },
  {
   "cell_type": "markdown",
   "id": "03ffcb40-b37c-42fd-92f5-f6bc04c8eb96",
   "metadata": {
    "panel-layout": {
     "height": 76.3203125,
     "visible": true,
     "width": 100
    }
   },
   "source": [
    "#### 4. **Average Deposit Amount per User (Monthly)**\n",
    "- Compute the **mean deposit amount per user** for the month of October."
   ]
  },
  {
   "cell_type": "code",
   "execution_count": 15,
   "id": "82dc6a65-205c-4cc2-a37f-181491b0d0e5",
   "metadata": {
    "panel-layout": {
     "height": 0,
     "visible": true,
     "width": 100
    }
   },
   "outputs": [
    {
     "name": "stdout",
     "output_type": "stream",
     "text": [
      "Average Deposit Amount per User (October): ₹101402.16\n"
     ]
    }
   ],
   "source": [
    "# October deposits only\n",
    "oct_deposits = deposit_data[\n",
    "    (deposit_data['Datetime'] >= '2022-10-01') &\n",
    "    (deposit_data['Datetime'] <= '2022-10-31')\n",
    "]\n",
    "\n",
    "# Group by user and sum their total deposits \n",
    "user_deposit_totals = oct_deposits.groupby('User Id')['Amount'].sum()\n",
    "\n",
    "# Average of those totals\n",
    "average_deposit_per_user = user_deposit_totals.mean()\n",
    "\n",
    "# Result\n",
    "print(f\"Average Deposit Amount per User (October): ₹{average_deposit_per_user:.2f}\")\n"
   ]
  },
  {
   "cell_type": "markdown",
   "id": "32189997-7335-4cdf-9280-b93ade8eed9d",
   "metadata": {
    "panel-layout": {
     "height": 76.3203125,
     "visible": true,
     "width": 100
    }
   },
   "source": [
    "#### 5. **Average Number of Games Played per User**\n",
    "- Determine the **average number of games played per user** during October."
   ]
  },
  {
   "cell_type": "code",
   "execution_count": 16,
   "id": "0b527f9f-b143-46b2-83b4-60f32ca7f17b",
   "metadata": {
    "panel-layout": {
     "height": 0,
     "visible": true,
     "width": 100
    }
   },
   "outputs": [
    {
     "name": "stdout",
     "output_type": "stream",
     "text": [
      "Average Number of Games Played per User (October): 344.48\n"
     ]
    }
   ],
   "source": [
    "# Gameplay data for October\n",
    "oct_gameplay = user_gameplay_data[\n",
    "    (user_gameplay_data['Datetime'] >= '2022-10-01') &\n",
    "    (user_gameplay_data['Datetime'] <= '2022-10-31')\n",
    "]\n",
    "\n",
    "# Group by User ID and sum their total games played \n",
    "games_per_user = oct_gameplay.groupby('User ID')['Games Played'].sum()\n",
    "\n",
    "# Calculate average number of games played per user\n",
    "avg_games_per_user = games_per_user.mean()\n",
    "\n",
    "# Result\n",
    "print(f\"Average Number of Games Played per User (October): {avg_games_per_user:.2f}\")\n"
   ]
  },
  {
   "cell_type": "markdown",
   "id": "261163b1-e75d-4105-b3a0-e813e767bb99",
   "metadata": {
    "panel-layout": {
     "height": 50.8203125,
     "visible": true,
     "width": 100
    }
   },
   "source": [
    "## Part B - Bonus Allocation – Hybrid Strategy"
   ]
  },
  {
   "cell_type": "markdown",
   "id": "4da69e68-136b-4a4c-acdd-1e737cc646d0",
   "metadata": {
    "panel-layout": {
     "height": 250.5546875,
     "visible": true,
     "width": 100
    }
   },
   "source": [
    "### Hybrid Bonus allocation\n",
    "\n",
    "Allocation based on factors independent of Loyalty Points:\n",
    "\n",
    "| Metric           | Description                              | Suggested Weight |\n",
    "|------------------|------------------------------------------|------------------|\n",
    "| **Games Played** | Engagement metric                        | 40%              |\n",
    "| **Net Deposits** | Deposits − Withdrawals = true value      | 40%              |\n",
    "| **Withdrawal Rate** | Reward those who retain balances      | 20%              |\n",
    "\n",
    "- **Net Deposits** give a cleaner signal than total deposits (helps reduce reward farming).\n",
    "- **Withdrawal Rate** = `Withdrawals / Deposits`; lower values are better, as they indicate player stickiness and platform retention.\n"
   ]
  },
  {
   "cell_type": "code",
   "execution_count": 26,
   "id": "d2ce0cf9-357b-4b59-9a25-b6caf8fb62cd",
   "metadata": {
    "panel-layout": {
     "height": 0,
     "visible": true,
     "width": 100
    }
   },
   "outputs": [
    {
     "name": "stdout",
     "output_type": "stream",
     "text": [
      "    User ID  Loyalty Points  Games Played  Total_Deposit_Amount  \\\n",
      "0       765        4816.600       23308.0                   0.0   \n",
      "1       672       21857.578           9.0             2068700.0   \n",
      "2       714       16154.233           6.0             1615300.0   \n",
      "3       566       18652.554         177.0             1769175.0   \n",
      "4       569       12285.023          36.0             1227780.0   \n",
      "5       222       13348.803          10.0             1285000.0   \n",
      "6        30       13803.374          13.0             1304000.0   \n",
      "7       538       10298.416          28.0             1025000.0   \n",
      "8        28       10062.446          37.0             1005500.0   \n",
      "9       182        8826.707        2375.0              795000.0   \n",
      "10      259        8239.514         121.0              821520.0   \n",
      "11      618        4413.545        6851.0              275071.0   \n",
      "12      247        2284.420        6422.0              100000.0   \n",
      "13      687        5741.290        1601.0              542105.0   \n",
      "14      856        6189.319        5859.0              405000.0   \n",
      "15      505        4390.072        2222.0              392000.0   \n",
      "16      663        6776.527        6214.0              415000.0   \n",
      "17      612        6199.614        1493.0              537000.0   \n",
      "18      181        2683.410        2917.0              210000.0   \n",
      "19      449        3399.462        6108.0              164709.0   \n",
      "20      722        1811.414        3222.0              116700.0   \n",
      "21      240        3257.921        1562.0              291000.0   \n",
      "22      869        3306.624        2248.0              263200.0   \n",
      "23      992       10902.778        2398.0              804978.0   \n",
      "24      218        1948.751        3731.0              107750.0   \n",
      "25       85        2652.836        2534.0              199470.0   \n",
      "26      456        2481.403        5232.0              111000.0   \n",
      "27      754        3932.379        5516.0              207500.0   \n",
      "28       89        1353.809        2269.0               90000.0   \n",
      "29      458        1024.068        2120.0               60000.0   \n",
      "30      828        2213.304        3054.0              135500.0   \n",
      "31      502        3900.112        4362.0              179650.0   \n",
      "32       39        2805.834        4121.0              122500.0   \n",
      "33        9        3453.420        3296.0              193684.0   \n",
      "34      602        3684.571        3554.0              181000.0   \n",
      "35      710        1796.901        2922.0               85000.0   \n",
      "36      365       11597.745        3531.0              311000.0   \n",
      "37      137        2799.800        3399.0              103000.0   \n",
      "38      989        9763.000        3340.0              240000.0   \n",
      "39      237        1441.001        3205.0               45000.0   \n",
      "40      407        3932.013        2460.0              236200.0   \n",
      "41      922        4265.800        2754.0              200000.0   \n",
      "42      272        1483.610        2738.0                   0.0   \n",
      "43      296        2316.070        2634.0               88300.0   \n",
      "44      836        3700.000        2350.0              106000.0   \n",
      "45      887         956.200        4781.0                   0.0   \n",
      "46      990         875.400        4377.0                   0.0   \n",
      "47      738         852.000        4260.0                   0.0   \n",
      "48      582         738.600        3693.0                   0.0   \n",
      "49      205         706.200        3531.0                   0.0   \n",
      "\n",
      "    Total_Withdrawal_Amount  Net_Deposit  Withdrawal_Score  Bonus (INR)  Rank  \n",
      "0                   31000.0     -31000.0          0.000000      2825.19    72  \n",
      "1                  233750.0    1834950.0          0.887006      2646.10     3  \n",
      "2                       0.0    1615300.0          1.000000      2417.61     7  \n",
      "3                  185071.0    1584104.0          0.895391      2357.22     5  \n",
      "4                       0.0    1227780.0          1.000000      1938.28    17  \n",
      "5                   99358.0    1185642.0          0.922679      1851.39    12  \n",
      "6                  152145.0    1151855.0          0.883324      1793.76     9  \n",
      "7                    8558.0    1016442.0          0.991651      1670.55    23  \n",
      "8                       0.0    1005500.0          1.000000      1661.37    24  \n",
      "9                   80339.0     714661.0          0.898945      1541.49    30  \n",
      "10                      0.0     821520.0          1.000000      1442.26    34  \n",
      "11                  58500.0     216571.0          0.787328      1418.20    78  \n",
      "12                      0.0     100000.0          1.000000      1306.78   161  \n",
      "13                      0.0     542105.0          1.000000      1273.42    58  \n",
      "14                 193500.0     211500.0          0.522222      1184.61    49  \n",
      "15                   5123.0     386877.0          0.986931      1149.95    79  \n",
      "16                 276742.0     138258.0          0.333152      1060.02    45  \n",
      "17                 106194.0     430806.0          0.802246      1041.77    48  \n",
      "18                      0.0     210000.0          1.000000      1019.03   133  \n",
      "19                 106153.0      58556.0          0.355512       956.87   104  \n",
      "20                      0.0     116700.0          1.000000       939.72   192  \n",
      "21                   7100.0     283900.0          0.975601       937.04   108  \n",
      "22                  45000.0     218200.0          0.829027       879.13   105  \n",
      "23                 474678.0     330300.0          0.410322       867.98    21  \n",
      "24                  25000.0      82750.0          0.767981       865.43   183  \n",
      "25                  30250.0     169220.0          0.848348       860.55   136  \n",
      "26                  65000.0      46000.0          0.414414       858.82   147  \n",
      "27                 150835.0      56665.0          0.273084       849.48    88  \n",
      "28                      0.0      90000.0          1.000000       790.93   242  \n",
      "29                      0.0      60000.0          1.000000       735.48   291  \n",
      "30                  49496.0      86004.0          0.634716       733.62   167  \n",
      "31                 246227.0     -66577.0          0.000000       528.72    91  \n",
      "32                 151320.0     -28820.0          0.000000       499.51   125  \n",
      "33                 171456.0      22228.0          0.114764       473.55   102  \n",
      "34                 232754.0     -51754.0          0.000000       430.79    95  \n",
      "35                  72500.0      12500.0          0.147059       429.13   194  \n",
      "36                1556309.0   -1245309.0          0.000000       428.00    18  \n",
      "37                 218000.0    -115000.0          0.000000       412.00   126  \n",
      "38                1339000.0   -1099000.0          0.000000       404.85    25  \n",
      "39                  70000.0     -25000.0          0.000000       388.48   234  \n",
      "40                 215600.0      20600.0          0.087214       359.06    89  \n",
      "41                 343000.0    -143000.0          0.000000       333.82    84  \n",
      "42                 187202.0    -187202.0          0.000000       331.88   229  \n",
      "43                 181246.0     -92946.0          0.000000       319.27   156  \n",
      "44                 434000.0    -328000.0          0.000000       284.85    94  \n",
      "45                      0.0          0.0               NaN          NaN   303  \n",
      "46                      0.0          0.0               NaN          NaN   323  \n",
      "47                      0.0          0.0               NaN          NaN   328  \n",
      "48                      0.0          0.0               NaN          NaN   359  \n",
      "49                      0.0          0.0               NaN          NaN   373  \n"
     ]
    }
   ],
   "source": [
    "import pandas as pd\n",
    "\n",
    "# Make a real copy of the top 50 rows\n",
    "top_50 = leaderboard.head(50).copy()\n",
    "\n",
    "# Calculate Net Deposit\n",
    "top_50['Net_Deposit'] = top_50['Total_Deposit_Amount'] - top_50['Total_Withdrawal_Amount']\n",
    "\n",
    "# Calculate Withdrawal Score (1 - withdrawal rate), and clip between 0 and 1 safely\n",
    "top_50['Withdrawal_Rate'] = top_50['Total_Withdrawal_Amount'] / top_50['Total_Deposit_Amount']\n",
    "top_50['Withdrawal_Score'] = 1 - top_50['Withdrawal_Rate']\n",
    "top_50.loc[top_50['Withdrawal_Score'] < 0, 'Withdrawal_Score'] = 0\n",
    "top_50.loc[top_50['Withdrawal_Score'] > 1, 'Withdrawal_Score'] = 1\n",
    "\n",
    "# Prepare safe net deposit column (clip negatives to 0)\n",
    "top_50['Safe_Net_Deposit'] = top_50['Net_Deposit'].copy()\n",
    "top_50.loc[top_50['Safe_Net_Deposit'] < 0, 'Safe_Net_Deposit'] = 0\n",
    "\n",
    "# Normalize metrics manually\n",
    "top_50['norm_games'] = top_50['Games Played'] / (top_50['Games Played'].sum() + 1e-9)\n",
    "top_50['norm_net_deposit'] = top_50['Safe_Net_Deposit'] / (top_50['Safe_Net_Deposit'].sum() + 1e-9)\n",
    "top_50['norm_withdrawal_score'] = top_50['Withdrawal_Score'] / (top_50['Withdrawal_Score'].sum() + 1e-9)\n",
    "\n",
    "# Weights\n",
    "w1 = 0.4  # games\n",
    "w2 = 0.4  # net deposit\n",
    "w3 = 0.2  # withdrawal score\n",
    "\n",
    "# Calculate weighted score\n",
    "top_50['weighted_score'] = (\n",
    "    w1 * top_50['norm_games'] +\n",
    "    w2 * top_50['norm_net_deposit'] +\n",
    "    w3 * top_50['norm_withdrawal_score']\n",
    ")\n",
    "\n",
    "# Bonus pool\n",
    "bonus_pool = 50000\n",
    "top_50['Bonus (INR)'] = (top_50['weighted_score'] * bonus_pool).round(2)\n",
    "\n",
    "# Final output sorted by bonus\n",
    "final_output = top_50[['User ID', 'Loyalty Points', 'Games Played',\n",
    "                       'Total_Deposit_Amount', 'Total_Withdrawal_Amount',\n",
    "                       'Net_Deposit', 'Withdrawal_Score', 'Bonus (INR)', 'Rank']].sort_values(\n",
    "    by='Bonus (INR)', ascending=False).reset_index(drop=True)\n",
    "\n",
    "# Display result\n",
    "print(final_output)\n"
   ]
  },
  {
   "cell_type": "markdown",
   "id": "a775e970-689b-4e1e-a65a-29ec55b78037",
   "metadata": {
    "panel-layout": {
     "height": 669.5859375,
     "visible": true,
     "width": 100
    }
   },
   "source": [
    "## Part C – Evaluating the Loyalty Point Formula\n",
    "\n",
    "Current loyalty point formula:\n",
    "\n",
    "**Balanced and Rewarding**  \n",
    "  The formula incorporates multiple user actions:\n",
    "  - **Deposits** (0.01 × Deposit Amount)\n",
    "  - **Withdrawals** (0.005 × Withdrawal Amount)\n",
    "  - **Frequency Advantage** – (0.001 × max(#Deposits - #Withdrawals, 0))\n",
    "  - **Games Played** (0.2 × Number of Games)\n",
    "      \n",
    "  This ensures players are rewarded for *activity* as well as *platform value contribution*.\n",
    "\n",
    "\n",
    "**Bias Toward Certain Behaviors**  \n",
    "  The formula significantly favors:\n",
    "  - Large **deposits** over gameplay — ₹100,000 deposit = 1,000 points, while 1 game = 0.2 points.  \n",
    "    → A player would need to play **5,000 games** to match the same points earned from one large deposit.  \n",
    "  - **Withdrawals** also yield points, which may not align with retention goals.\n",
    "\n",
    "**Abusable or Easily Gamed**  \n",
    "  - Players can **deposit and withdraw in loops** to artificially boost points.  \n",
    "  - Rewarding both deposits *and* withdrawals with no cap or cooldown makes it exploitable. \n",
    "  - No consideration of game quality, win/loss ratio, or fair play integrity.\n",
    "\n",
    "---\n",
    "\n",
    "### Suggestions for Improvement\n",
    "\n",
    "| Area | Improvement |\n",
    "|--------|----------------|\n",
    "| Balance | Add upper cap to points from deposits/withdrawals |\n",
    "| Fairness | Reward game outcomes, streaks, or achievements |\n",
    "| Engagement | Introduce daily/weekly activity bonuses |\n",
    "| Abuse Prevention | Apply cooldowns or diminishing returns on repetitive deposits/withdrawals |\n",
    "\n",
    "---\n",
    "\n",
    "> **Conclusion:** While the formula covers diverse activities, it can be improved by limiting financial exploitation and better encouraging long-term engagement.\n"
   ]
  },
  {
   "cell_type": "code",
   "execution_count": 18,
   "id": "7652aa35-aad6-4163-b203-171b83d3f55a",
   "metadata": {
    "panel-layout": {
     "height": 1162,
     "visible": true,
     "width": 100
    }
   },
   "outputs": [
    {
     "data": {
      "image/png": "[encoded data removed]",
      "text/plain": [
       "<Figure size 1600x800 with 1 Axes>"
      ]
     },
     "metadata": {},
     "output_type": "display_data"
    }
   ],
   "source": [
    "import matplotlib.pyplot as plt\n",
    "import numpy as np\n",
    "import warnings\n",
    "warnings.filterwarnings(\"ignore\", category=UserWarning)\n",
    "\n",
    "# Calculate point components\n",
    "top_50['Deposit Points'] = 0.01 * top_50['Total_Deposit_Amount']\n",
    "top_50['Withdrawal Points'] = 0.005 * top_50['Total_Withdrawal_Amount']\n",
    "top_50['Game Points'] = 0.2 * top_50['Games Played']\n",
    "\n",
    "# Calculate total contribution\n",
    "top_50['Total_Contrib'] = (\n",
    "    top_50['Deposit Points'] + \n",
    "    top_50['Withdrawal Points'] + \n",
    "    top_50['Game Points']\n",
    ")\n",
    "\n",
    "# Normalize to percentages\n",
    "top_50['%Deposit'] = top_50['Deposit Points'] / top_50['Total_Contrib']\n",
    "top_50['%Withdrawal'] = top_50['Withdrawal Points'] / top_50['Total_Contrib']\n",
    "top_50['%Games'] = top_50['Game Points'] / top_50['Total_Contrib']\n",
    "\n",
    "# Sort by loyalty points\n",
    "top_50_sorted = top_50.sort_values(by='Loyalty Points', ascending=False).reset_index(drop=True)\n",
    "\n",
    "# Plot\n",
    "plt.figure(figsize=(16, 8))\n",
    "x = np.arange(len(top_50_sorted))\n",
    "\n",
    "# Stack bars\n",
    "plt.bar(x, top_50_sorted['%Deposit'], label='💰 Deposit', color='skyblue')\n",
    "plt.bar(x, top_50_sorted['%Withdrawal'], \n",
    "        bottom=top_50_sorted['%Deposit'], label='💸 Withdrawal', color='lightgreen')\n",
    "plt.bar(x, top_50_sorted['%Games'], \n",
    "        bottom=top_50_sorted['%Deposit'] + top_50_sorted['%Withdrawal'], label='🎮 Games', color='orange')\n",
    "\n",
    "# Annotate top 5 players\n",
    "for i in range(5):\n",
    "    uid = top_50_sorted.loc[i, 'User ID']\n",
    "    plt.text(x[i], 1.02, f'#{i+1}\\nUID:{uid}', ha='center', fontsize=8, fontweight='bold')\n",
    "\n",
    "# Styling\n",
    "plt.title(\"📊 Loyalty Point Composition – Top 50 Players\", fontsize=16)\n",
    "plt.xlabel(\"Users (Ranked by Loyalty Points)\", fontsize=12)\n",
    "plt.ylabel(\"Percentage Contribution\", fontsize=12)\n",
    "plt.ylim(0, 1.1)\n",
    "plt.xticks([], [])  # Hide user labels for clarity\n",
    "plt.legend(loc='upper right')\n",
    "plt.grid(axis='y', linestyle='--', alpha=0.6)\n",
    "plt.tight_layout()\n",
    "plt.show()\n"
   ]
  },
  {
   "cell_type": "markdown",
   "id": "0fc48511-0baf-4218-8ac2-08a198ab123e",
   "metadata": {
    "panel-layout": {
     "height": 51.140625,
     "visible": true,
     "width": 100
    }
   },
   "source": [
    "***Above chart shows the loyalty points are heavily contributed by deposits and withdrawals, these aspects can easily be gamed to gain advantage***"
   ]
  },
  {
   "cell_type": "code",
   "execution_count": 19,
   "id": "2a350d51-718d-4c07-b889-1821a4319fc4",
   "metadata": {
    "panel-layout": {
     "height": 874.000244140625,
     "visible": true,
     "width": 100
    }
   },
   "outputs": [
    {
     "data": {
      "image/png": "[encoded data removed]",
      "text/plain": [
       "<Figure size 1000x600 with 1 Axes>"
      ]
     },
     "metadata": {},
     "output_type": "display_data"
    }
   ],
   "source": [
    "plt.figure(figsize=(10, 6))\n",
    "plt.scatter(top_50['Games Played'], top_50['Loyalty Points'], c='orange', alpha=0.7, edgecolors='black')\n",
    "plt.xlabel('🎮 Games Played')\n",
    "plt.ylabel('🏅 Loyalty Points')\n",
    "plt.title('🎯 Loyalty Points vs. Games Played')\n",
    "plt.grid(True, linestyle='--', alpha=0.6)\n",
    "plt.tight_layout()\n",
    "plt.show()\n"
   ]
  },
  {
   "cell_type": "markdown",
   "id": "c7617286-6763-4083-96da-8e7352e7a216",
   "metadata": {
    "panel-layout": {
     "height": 51.140625,
     "visible": true,
     "width": 100
    }
   },
   "source": [
    "***Above chart shows number of games played has little to no advantage in gaining more loyalty points, this does not promote engagement - a behavior we aim to encourage***"
   ]
  },
  {
   "cell_type": "code",
   "execution_count": 20,
   "id": "3fdf4224-69b1-469e-81ce-08dc2e37444c",
   "metadata": {
    "panel-layout": {
     "height": 1018.000244140625,
     "visible": true,
     "width": 100
    }
   },
   "outputs": [
    {
     "data": {
      "image/png": "[encoded data removed]",
      "text/plain": [
       "<Figure size 700x700 with 1 Axes>"
      ]
     },
     "metadata": {},
     "output_type": "display_data"
    }
   ],
   "source": [
    "labels = ['💰 Deposit', '💸 Withdrawal', '🎮 Games']\n",
    "totals = [\n",
    "    top_50['Deposit Points'].sum(),\n",
    "    top_50['Withdrawal Points'].sum(),\n",
    "    top_50['Game Points'].sum()\n",
    "]\n",
    "\n",
    "plt.figure(figsize=(7, 7))\n",
    "plt.pie(totals, labels=labels, autopct='%1.1f%%', startangle=140, colors=['skyblue', 'lightgreen', 'orange'])\n",
    "plt.title('📊 Loyalty Points Breakdown Across Top 50')\n",
    "plt.axis('equal')\n",
    "plt.tight_layout()\n",
    "plt.show()\n"
   ]
  },
  {
   "cell_type": "markdown",
   "id": "ce31853b-5325-476d-9bc2-fe69e30af6af",
   "metadata": {
    "panel-layout": {
     "height": 633.500244140625,
     "visible": true,
     "width": 100
    }
   },
   "source": [
    "# Revised Loyalty Scoring Formula\n",
    "\n",
    "The revised loyalty points system is designed to **reward long-term, engaged, and responsible player behavior**, not just monetary contribution. This creates a more balanced and fair evaluation of user loyalty on the platform.\n",
    "\n",
    "---\n",
    "\n",
    "## Formula Overview\n",
    "\n",
    "Each user’s **Revised Loyalty Points** is calculated as:\n",
    "\n",
    "\n",
    "| Component                  | Formula                                                                 | Weight  | Description                                                              |\n",
    "|---------------------------|-------------------------------------------------------------------------|---------|--------------------------------------------------------------------------|\n",
    "| **Recency**               | `1 - min((days_since_last_active / 30), 1)`                             | —       | Multiplier that decays points for users inactive for more than 30 days   |\n",
    "| **Net Deposit**           | `0.001 × max(Deposit - Withdrawal, 0)`                                  | 0.001   | Proportionate boost for net positive deposit behavior                       |\n",
    "| **Withdrawal Score**      | `5 × max(1 - (Withdrawal / Deposit), 0)`                                | 5.0     | Rewards users who don't immediately withdraw their deposits     |\n",
    "| **Frequency Bonus**       | `0.08 × max(Num_Deposits - Num_Withdrawals, 0)`                         | 0.08    | Rewards players who deposit more often than they withdraw                |\n",
    "| **Game Points**           | `0.04 × Games_Played`                                                   | 0.04    | Rewards users who actively play and engage with the platform             |\n",
    "\n",
    "**Note**: All components are multiplied by the `Recency` factor to prioritize recently active users.\n",
    "\n",
    "---\n",
    "\n",
    "## Why This Matters\n",
    "\n",
    "- **Reduced dependency on spending**  \n",
    "  Net deposits contribute minimally, preventing whales from dominating rankings.\n",
    "\n",
    "- **Behavior-first loyalty**  \n",
    "  Stickiness and frequency bonus reward trust and consistent engagement.\n",
    "\n",
    "- **Encourages active gameplay**  \n",
    "  Users who play more are directly rewarded for time spent on the platform.\n",
    "\n",
    "- **Recency enforces activity**  \n",
    "  Inactive users automatically fall in rank, maintaining leaderboard freshness.\n",
    "\n"
   ]
  },
  {
   "cell_type": "code",
   "execution_count": 21,
   "id": "44e35883-c717-4e8f-8040-f9ba1cd0d2a6",
   "metadata": {
    "panel-layout": {
     "height": 1018.000244140625,
     "visible": true,
     "width": 100
    }
   },
   "outputs": [
    {
     "name": "stdout",
     "output_type": "stream",
     "text": [
      "    User ID  Games Played  Total_Deposit_Amount  Total_Withdrawal_Amount  \\\n",
      "0       765       23308.0                   0.0                  31000.0   \n",
      "1       618        6851.0              275071.0                  58500.0   \n",
      "2       247        6422.0              100000.0                      0.0   \n",
      "3       663        6214.0              415000.0                 276742.0   \n",
      "4       856        5859.0              405000.0                 193500.0   \n",
      "5       449        6108.0              164709.0                 106153.0   \n",
      "6       754        5516.0              207500.0                 150835.0   \n",
      "7       456        5232.0              111000.0                  65000.0   \n",
      "8       887        4781.0                   0.0                      0.0   \n",
      "9       672           9.0             2068700.0                 233750.0   \n",
      "10      502        4362.0              179650.0                 246227.0   \n",
      "11      990        4377.0                   0.0                      0.0   \n",
      "12      738        4260.0                   0.0                      0.0   \n",
      "13      566         177.0             1769175.0                 185071.0   \n",
      "14      182        2375.0              795000.0                  80339.0   \n",
      "\n",
      "    Num_Deposits  Num_Withdrawals     Last Active Date  \\\n",
      "0            0.0              3.0  2022-10-30 23:59:00   \n",
      "1          140.0              5.0  2022-10-30 23:49:00   \n",
      "2           20.0              0.0  2022-10-30 23:46:00   \n",
      "3           50.0             33.0  2022-10-30 23:49:00   \n",
      "4           30.0             11.0  2022-10-30 23:54:00   \n",
      "5           11.0              4.0  2022-10-30 23:56:00   \n",
      "6           24.0             20.0  2022-10-30 23:52:00   \n",
      "7            4.0              1.0  2022-10-30 23:46:00   \n",
      "8            0.0              0.0  2022-10-30 23:35:00   \n",
      "9           33.0              5.0  2022-10-30 21:13:00   \n",
      "10         108.0             31.0  2022-10-30 23:53:00   \n",
      "11           0.0              0.0  2022-10-30 23:59:00   \n",
      "12           0.0              0.0  2022-10-30 23:58:00   \n",
      "13          52.0              3.0  2022-10-30 16:22:00   \n",
      "14          16.0              4.0  2022-10-30 23:29:00   \n",
      "\n",
      "    Revised_Loyalty_Points  Loyalty Points  Revised_Rank  Rank  \n",
      "0              9323.200000        4816.600             1    72  \n",
      "1              3068.907638        4413.545             2    78  \n",
      "2              2689.800000        2284.420             3   161  \n",
      "3              2639.123759        6776.527             4    45  \n",
      "4              2572.911111        6189.319             5    49  \n",
      "5              2509.133559        3399.462             6   104  \n",
      "6              2267.630422        3932.379             7    88  \n",
      "7              2143.272072        2481.403             8   147  \n",
      "8              1912.400000         956.200             9   303  \n",
      "9              1865.385032       21857.578            10     3  \n",
      "10             1806.400000        3900.112            11    91  \n",
      "11             1750.800000         875.400            12   323  \n",
      "12             1704.000000         852.000            13   328  \n",
      "13             1698.580957       18652.554            14     5  \n",
      "14             1678.755723        8826.707            15    30  \n"
     ]
    }
   ],
   "source": [
    "import pandas as pd\n",
    "from datetime import datetime\n",
    "\n",
    "# Step 1: Set the reference date\n",
    "reference_date = datetime.strptime('2022-10-31', '%Y-%m-%d')\n",
    "\n",
    "# Step 2: Create an empty list to store scores\n",
    "all_scores = []\n",
    "\n",
    "# Step 3: Go through each user one by one\n",
    "for i in range(len(leaderboard)):\n",
    "    # Get that user's row\n",
    "    row = leaderboard.iloc[i]\n",
    "\n",
    "    # Step 4: Pull out the values from the row\n",
    "    games = row['Games Played']\n",
    "    deposits = row['Total_Deposit_Amount']\n",
    "    withdrawals = row['Total_Withdrawal_Amount']\n",
    "    num_deposits = row['Num_Deposits']\n",
    "    num_withdrawals = row['Num_Withdrawals']\n",
    "    last_active = row['Last Active Date']\n",
    "\n",
    "    # Step 5: Calculate net deposit points\n",
    "    net_amount = deposits - withdrawals\n",
    "    if net_amount < 0:\n",
    "        net_amount = 0\n",
    "    deposit_points = 0.001 * net_amount\n",
    "\n",
    "    # Step 6: Calculate stickiness\n",
    "    if deposits > 0:\n",
    "        ratio = withdrawals / deposits\n",
    "        stickiness = 1 - ratio\n",
    "        if stickiness < 0:\n",
    "            stickiness = 0\n",
    "    else:\n",
    "        stickiness = 0\n",
    "    stickiness_points = 5 * stickiness\n",
    "\n",
    "    # Step 7: Frequency bonus\n",
    "    deposit_difference = num_deposits - num_withdrawals\n",
    "    if deposit_difference < 0:\n",
    "        deposit_difference = 0\n",
    "    frequency_points = 0.8 * deposit_difference\n",
    "\n",
    "    # Step 8: Game points\n",
    "    game_points = 0.4 * games\n",
    "\n",
    "    # Step 9: Recency multiplier\n",
    "    if pd.isnull(last_active):\n",
    "        recency = 0\n",
    "    else:\n",
    "        # Make sure it's a datetime object\n",
    "        try:\n",
    "            last_active = pd.to_datetime(last_active)\n",
    "            days_ago = (reference_date - last_active).days\n",
    "            if days_ago > 30:\n",
    "                recency = 0\n",
    "            else:\n",
    "                recency = 1 - (days_ago / 30)\n",
    "        except:\n",
    "            recency = 0\n",
    "\n",
    "\n",
    "    # Step 10: Total score and final score with recency\n",
    "    total_before_recency = deposit_points + stickiness_points + frequency_points + game_points\n",
    "    final_score = total_before_recency * recency\n",
    "\n",
    "    # Step 11: Add to the list\n",
    "    all_scores.append(final_score)\n",
    "\n",
    "# Step 12: Add results to the leaderboard\n",
    "leaderboard['Revised_Loyalty_Points'] = all_scores\n",
    "\n",
    "# Step 13: Sort and rank users\n",
    "leaderboard = leaderboard.sort_values(by='Revised_Loyalty_Points', ascending=False).reset_index(drop=True)\n",
    "leaderboard['Revised_Rank'] = leaderboard.index + 1\n",
    "\n",
    "# Step 14: Show top 15\n",
    "print(leaderboard[['User ID', 'Games Played', 'Total_Deposit_Amount', 'Total_Withdrawal_Amount',\n",
    "                   'Num_Deposits', 'Num_Withdrawals', 'Last Active Date',\n",
    "                   'Revised_Loyalty_Points', 'Loyalty Points', 'Revised_Rank', 'Rank']].head(15))\n"
   ]
  },
  {
   "cell_type": "code",
   "execution_count": 22,
   "id": "b96445d8-be6d-4b2c-9ad5-c99a7135f2cb",
   "metadata": {
    "panel-layout": {
     "height": 1162.000244140625,
     "visible": true,
     "width": 100
    }
   },
   "outputs": [
    {
     "data": {
      "image/png": "[encoded data removed]",
      "text/plain": [
       "<Figure size 1800x800 with 1 Axes>"
      ]
     },
     "metadata": {},
     "output_type": "display_data"
    }
   ],
   "source": [
    "import matplotlib.pyplot as plt\n",
    "\n",
    "# Top 50 users\n",
    "top_50 = leaderboard.sort_values(by='Revised_Loyalty_Points', ascending=False).head(50)\n",
    "\n",
    "def recency_multiplier(last_active):\n",
    "    if pd.isnull(last_active):\n",
    "        return 0\n",
    "    days_since = (reference_date - last_active).days\n",
    "    return max(0, 1 - min(days_since / 30, 1))\n",
    "\n",
    "def decompose(row):\n",
    "    deposit = row['Total_Deposit_Amount']\n",
    "    withdrawal = row['Total_Withdrawal_Amount']\n",
    "    num_deposits = row['Num_Deposits']\n",
    "    num_withdrawals = row['Num_Withdrawals']\n",
    "    games_played = row['Games Played']\n",
    "    last_active = row['Last Active Date']\n",
    "    recency = recency_multiplier(last_active)\n",
    "\n",
    "    # Prevent negative stickiness by capping it at 0\n",
    "    net = 0.001 * max(deposit - withdrawal, 0) * recency\n",
    "\n",
    "    if deposit > 0:\n",
    "        withdrawal_ratio = withdrawal / deposit\n",
    "        stickiness_raw = max(0, 1 - withdrawal_ratio)  # Cap at 0\n",
    "    else:\n",
    "        stickiness_raw = 0\n",
    "    stickiness = 5 * stickiness_raw * recency\n",
    "\n",
    "    freq = 0.08 * max(num_deposits - num_withdrawals, 0) * recency\n",
    "    game = 0.04 * games_played * recency\n",
    "    total = net + stickiness + freq + game\n",
    "\n",
    "    return pd.Series({\n",
    "        'User ID': row['User ID'],\n",
    "        'Net Deposit': net / total if total > 0 else 0,\n",
    "        'Withdrawal Score': stickiness / total if total > 0 else 0,\n",
    "        'Frequency Bonus': freq / total if total > 0 else 0,\n",
    "        'Game Points': game / total if total > 0 else 0,\n",
    "    })\n",
    "\n",
    "\n",
    "components = top_50.apply(decompose, axis=1)\n",
    "labels = components['User ID'].astype(str)\n",
    "\n",
    "# Plot\n",
    "plt.figure(figsize=(18, 8))\n",
    "bottom = [0] * len(components)\n",
    "\n",
    "for comp in ['Net Deposit', 'Withdrawal Score', 'Frequency Bonus', 'Game Points']:\n",
    "    plt.bar(labels, components[comp], bottom=bottom, label=comp)\n",
    "    bottom = [i + j for i, j in zip(bottom, components[comp])]\n",
    "\n",
    "plt.title('Top 50 Users - Heavily Balanced % Contribution to Revised Loyalty Points')\n",
    "plt.xlabel('User ID')\n",
    "plt.ylabel('Percentage Contribution')\n",
    "plt.xticks(rotation=90)\n",
    "plt.legend(loc='upper right')\n",
    "plt.tight_layout()\n",
    "plt.grid(axis='y', linestyle='--', alpha=0.5)\n",
    "plt.show()\n"
   ]
  },
  {
   "cell_type": "markdown",
   "id": "6e72730e-0ee0-4320-99b5-bd2afe1e2ece",
   "metadata": {
    "panel-layout": {
     "height": 51.140625,
     "visible": true,
     "width": 100
    }
   },
   "source": [
    "***Above chart shows the new loyalty points are mainly contributed by Net Deposit and Games Played, this reinforces players to play more games and keep more money deposited***"
   ]
  },
  {
   "cell_type": "code",
   "execution_count": 23,
   "id": "cfd4d556-7282-4033-86bb-52e35b1536a3",
   "metadata": {
    "panel-layout": {
     "height": 1162,
     "visible": true,
     "width": 100
    }
   },
   "outputs": [
    {
     "data": {
      "image/png": "[encoded data removed]",
      "text/plain": [
       "<Figure size 800x800 with 1 Axes>"
      ]
     },
     "metadata": {},
     "output_type": "display_data"
    }
   ],
   "source": [
    "import matplotlib.pyplot as plt\n",
    "\n",
    "\n",
    "def compute_average_components(df):\n",
    "    net_total = 0\n",
    "    stickiness_total = 0\n",
    "    freq_total = 0\n",
    "    game_total = 0\n",
    "\n",
    "    for _, row in df.iterrows():\n",
    "        deposit = row['Total_Deposit_Amount']\n",
    "        withdrawal = row['Total_Withdrawal_Amount']\n",
    "        num_deposits = row['Num_Deposits']\n",
    "        num_withdrawals = row['Num_Withdrawals']\n",
    "        games_played = row['Games Played']\n",
    "        last_active = row['Last Active Date']\n",
    "        recency = recency_multiplier(last_active)\n",
    "\n",
    "        # Apply latest ratios\n",
    "        net = 0.001 * max(deposit - withdrawal, 0) * recency\n",
    "\n",
    "        if deposit > 0:\n",
    "            withdrawal_ratio = withdrawal / deposit\n",
    "            stickiness_raw = max(0, 1 - withdrawal_ratio)\n",
    "        else:\n",
    "            stickiness_raw = 0\n",
    "        stickiness = 5 * stickiness_raw * recency\n",
    "\n",
    "        freq = 0.08 * max(num_deposits - num_withdrawals, 0) * recency\n",
    "        game = 0.04 * games_played * recency\n",
    "\n",
    "        net_total += net\n",
    "        stickiness_total += stickiness\n",
    "        freq_total += freq\n",
    "        game_total += game\n",
    "\n",
    "    return {\n",
    "        'Net Deposit': net_total,\n",
    "        'Withdrawal Score': stickiness_total,\n",
    "        'Frequency Bonus': freq_total,\n",
    "        'Game Points': game_total\n",
    "    }\n",
    "\n",
    "# Use top N or full leaderboard\n",
    "top_n = leaderboard.head(100)  \n",
    "components_total = compute_average_components(top_n)\n",
    "\n",
    "# Plot pie chart\n",
    "plt.figure(figsize=(8, 8))\n",
    "plt.pie(components_total.values(), labels=components_total.keys(), autopct='%1.1f%%', startangle=140)\n",
    "plt.title('Average Component Contribution to Revised Loyalty Score')\n",
    "plt.axis('equal')  # Ensure pie is circular\n",
    "plt.show()\n"
   ]
  },
  {
   "cell_type": "code",
   "execution_count": null,
   "id": "c5890000-5bf2-4a01-af48-5fc608435988",
   "metadata": {},
   "outputs": [],
   "source": []
  },
  {
   "cell_type": "code",
   "execution_count": null,
   "id": "cc68e988-093b-4e3c-a951-850c574907ea",
   "metadata": {},
   "outputs": [],
   "source": []
  },
  {
   "cell_type": "code",
   "execution_count": null,
   "id": "8f5a9add-e9cf-46fd-8f33-2ea5cc0a82a1",
   "metadata": {},
   "outputs": [],
   "source": []
  },
  {
   "cell_type": "code",
   "execution_count": null,
   "id": "806d23f0-c696-46ff-b089-7aa602f8161d",
   "metadata": {},
   "outputs": [],
   "source": []
  },
  {
   "cell_type": "code",
   "execution_count": null,
   "id": "738e525d-9fee-4261-81e6-1d49990fefe4",
   "metadata": {},
   "outputs": [],
   "source": []
  },
  {
   "cell_type": "code",
   "execution_count": null,
   "id": "ae2324e8-bbfc-4c5e-8d53-43f932112caf",
   "metadata": {},
   "outputs": [],
   "source": []
  },
  {
   "cell_type": "code",
   "execution_count": null,
   "id": "ac845114-1e6b-47dc-a612-66486dc28d1e",
   "metadata": {},
   "outputs": [],
   "source": []
  },
  {
   "cell_type": "code",
   "execution_count": null,
   "id": "e14f3fe6-9462-4e63-a046-a9874dbd5f9f",
   "metadata": {},
   "outputs": [],
   "source": []
  },
  {
   "cell_type": "code",
   "execution_count": null,
   "id": "05267a54-1fd0-40c7-a7b7-9802e02e5079",
   "metadata": {},
   "outputs": [],
   "source": []
  },
  {
   "cell_type": "code",
   "execution_count": null,
   "id": "f2f18b7f-db22-49cc-9a10-57307af4d5ab",
   "metadata": {},
   "outputs": [],
   "source": []
  },
  {
   "cell_type": "code",
   "execution_count": null,
   "id": "85de7ff0-5ea1-47bc-95a9-d6ab17953578",
   "metadata": {},
   "outputs": [],
   "source": []
  },
  {
   "cell_type": "code",
   "execution_count": null,
   "id": "3c8b228f-5ab8-4f23-8af3-3dd6ebbdf11c",
   "metadata": {},
   "outputs": [],
   "source": []
  },
  {
   "cell_type": "code",
   "execution_count": null,
   "id": "166b5658-8ee8-462d-9d3c-156a2b308720",
   "metadata": {},
   "outputs": [],
   "source": []
  },
  {
   "cell_type": "code",
   "execution_count": null,
   "id": "9c59e911-e866-4a0c-81a8-5fb79ecea09a",
   "metadata": {},
   "outputs": [],
   "source": []
  },
  {
   "cell_type": "code",
   "execution_count": null,
   "id": "841f1d42-909d-482c-9056-f691943a760a",
   "metadata": {},
   "outputs": [],
   "source": []
  }
 ],
 "metadata": {
  "kernelspec": {
   "display_name": "Python [conda env:base] *",
   "language": "python",
   "name": "conda-base-py"
  },
  "language_info": {
   "codemirror_mode": {
    "name": "ipython",
    "version": 3
   },
   "file_extension": ".py",
   "mimetype": "text/x-python",
   "name": "python",
   "nbconvert_exporter": "python",
   "pygments_lexer": "ipython3",
   "version": "3.13.5"
  },
  "panel-cell-order": [
   "c43e3f7e-9f49-4d9c-8261-b20f593e51b7",
   "d6c8baf5-4754-49c2-bfb0-78a2b3d711b4",
   "460ad1ec-370d-41a6-a0da-11213e374f13",
   "30915570-2fca-4377-9257-f80d90cd3a50",
   "5f0b4924-0e2b-4c74-854d-b90337a73969",
   "c9bb0984-ca1d-4403-be11-5737e9bcdedd",
   "a7ace777-8eb2-4f36-960f-8a5f56be3559",
   "c4a57065-d5ff-4f42-a080-4f18c08a97a9",
   "eddc0cd2-f022-4d4e-a599-581b63410349",
   "e0994df1-3267-4631-bb3d-ffd5d7ae467b",
   "e4283260-09b9-406d-9207-74d215d5f320",
   "f143d507-6083-4386-aea3-0eda42c03225",
   "58474406-4d63-4646-8127-8587dbecda4a",
   "750f0eb5-955a-4f76-84ea-99fce64c2cd1",
   "bb306071-714b-4153-9f3f-ff0ee1b9b67a",
   "a3043f90-56f2-43cc-9790-9c9222962123",
   "35f3eaa9-3601-438c-9bb0-f1b80fbf54bb",
   "3aa32d34-448c-4ec4-959a-cdf5ec1cc74f",
   "c7065950-c945-4822-b97b-0e495113ae18",
   "f4c8db22-75f3-4f5a-89db-d4aaae3b3f0a",
   "6d5f49ff-b39d-4e98-9f9a-4d538b4245bd",
   "d1ba274c-2fc7-4c8f-81ad-c71ff71dc588",
   "b606191b-e329-45e2-8f68-23e55b2ff3c8",
   "03ffcb40-b37c-42fd-92f5-f6bc04c8eb96",
   "82dc6a65-205c-4cc2-a37f-181491b0d0e5",
   "32189997-7335-4cdf-9280-b93ade8eed9d",
   "0b527f9f-b143-46b2-83b4-60f32ca7f17b",
   "261163b1-e75d-4105-b3a0-e813e767bb99",
   "4da69e68-136b-4a4c-acdd-1e737cc646d0",
   "d2ce0cf9-357b-4b59-9a25-b6caf8fb62cd",
   "faa536a2-c383-49ed-8a78-47a89876503c",
   "a775e970-689b-4e1e-a65a-29ec55b78037",
   "7652aa35-aad6-4163-b203-171b83d3f55a",
   "0fc48511-0baf-4218-8ac2-08a198ab123e",
   "2a350d51-718d-4c07-b889-1821a4319fc4",
   "c7617286-6763-4083-96da-8e7352e7a216",
   "3fdf4224-69b1-469e-81ce-08dc2e37444c",
   "ce31853b-5325-476d-9bc2-fe69e30af6af",
   "44e35883-c717-4e8f-8040-f9ba1cd0d2a6",
   "b96445d8-be6d-4b2c-9ad5-c99a7135f2cb",
   "6e72730e-0ee0-4320-99b5-bd2afe1e2ece",
   "cfd4d556-7282-4033-86bb-52e35b1536a3"
  ]
 },
 "nbformat": 4,
 "nbformat_minor": 5
}
